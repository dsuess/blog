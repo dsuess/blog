{
 "cells": [
  {
   "cell_type": "markdown",
   "id": "c6a24365",
   "metadata": {
    "id": "c6a24365"
   },
   "source": [
    "# The randomized truncated SVD\n",
    "\n",
    "- subtitle: Orː How I learned to stop worrying and love the possibility of failure\n",
    "- badges: true\n",
    "- categories: [data science,algorithms]"
   ]
  },
  {
   "cell_type": "code",
   "execution_count": 1,
   "id": "144bf30f",
   "metadata": {
    "colab": {
     "base_uri": "https://localhost:8080/"
    },
    "id": "144bf30f",
    "outputId": "36200743-528e-434c-95cd-6a30b3460d50"
   },
   "outputs": [
    {
     "name": "stdout",
     "output_type": "stream",
     "text": [
      "Requirement already satisfied: altair in /Users/dsuess/Code/blog/.venv/lib/python3.8/site-packages (4.1.0)\n",
      "Requirement already satisfied: torch in /Users/dsuess/Code/blog/.venv/lib/python3.8/site-packages (1.8.1)\n",
      "Requirement already satisfied: scipy in /Users/dsuess/Code/blog/.venv/lib/python3.8/site-packages (1.6.3)\n",
      "Requirement already satisfied: entrypoints in /Users/dsuess/Code/blog/.venv/lib/python3.8/site-packages (from altair) (0.3)\n",
      "Requirement already satisfied: toolz in /Users/dsuess/Code/blog/.venv/lib/python3.8/site-packages (from altair) (0.11.1)\n",
      "Requirement already satisfied: jinja2 in /Users/dsuess/Code/blog/.venv/lib/python3.8/site-packages (from altair) (3.0.0)\n",
      "Requirement already satisfied: pandas>=0.18 in /Users/dsuess/Code/blog/.venv/lib/python3.8/site-packages (from altair) (1.2.4)\n",
      "Requirement already satisfied: jsonschema in /Users/dsuess/Code/blog/.venv/lib/python3.8/site-packages (from altair) (3.2.0)\n",
      "Requirement already satisfied: numpy in /Users/dsuess/Code/blog/.venv/lib/python3.8/site-packages (from altair) (1.20.3)\n",
      "Requirement already satisfied: pytz>=2017.3 in /Users/dsuess/Code/blog/.venv/lib/python3.8/site-packages (from pandas>=0.18->altair) (2021.1)\n",
      "Requirement already satisfied: python-dateutil>=2.7.3 in /Users/dsuess/Code/blog/.venv/lib/python3.8/site-packages (from pandas>=0.18->altair) (2.8.1)\n",
      "Requirement already satisfied: six>=1.5 in /Users/dsuess/Code/blog/.venv/lib/python3.8/site-packages (from python-dateutil>=2.7.3->pandas>=0.18->altair) (1.16.0)\n",
      "Requirement already satisfied: typing-extensions in /Users/dsuess/Code/blog/.venv/lib/python3.8/site-packages (from torch) (3.10.0.0)\n",
      "Requirement already satisfied: MarkupSafe>=2.0.0rc2 in /Users/dsuess/Code/blog/.venv/lib/python3.8/site-packages (from jinja2->altair) (2.0.0)\n",
      "Requirement already satisfied: attrs>=17.4.0 in /Users/dsuess/Code/blog/.venv/lib/python3.8/site-packages (from jsonschema->altair) (21.2.0)\n",
      "Requirement already satisfied: setuptools in /Users/dsuess/Code/blog/.venv/lib/python3.8/site-packages (from jsonschema->altair) (49.2.1)\n",
      "Requirement already satisfied: pyrsistent>=0.14.0 in /Users/dsuess/Code/blog/.venv/lib/python3.8/site-packages (from jsonschema->altair) (0.17.3)\n",
      "\u001b[33mWARNING: You are using pip version 21.1.1; however, version 21.1.2 is available.\n",
      "You should consider upgrading via the '/Users/dsuess/Code/blog/.venv/bin/python3 -m pip install --upgrade pip' command.\u001b[0m\n"
     ]
    }
   ],
   "source": [
    "#hide\n",
    "!pip install altair torch scipy\n",
    "\n",
    "import altair as alt\n",
    "import pandas as pd\n",
    "import torch\n",
    "import numpy as np\n",
    "from scipy.sparse.linalg import svds\n",
    "from scipy.stats import multivariate_normal\n",
    "\n",
    "from collections import namedtuple, defaultdict\n",
    "\n",
    "torch.manual_seed(0);"
   ]
  },
  {
   "cell_type": "markdown",
   "id": "sl6ZcgjBapms",
   "metadata": {
    "id": "sl6ZcgjBapms"
   },
   "source": [
    "There are many things that make a great algorithm:\n",
    "Providing a solution to an actual problem is definitely important.\n",
    "Additional points if the algorithm is fast or easy to explain.\n",
    "However, not many algorithms contain a piece of life advice.\n",
    "\n",
    "In this post, I'll talk about one algorithm that ticks all these boxes: the randomized truncated singular-value decomposition (SVD).\n",
    "I'll cover the idea and a basic implementation in 15 lines of Python.\n",
    "\n"
   ]
  },
  {
   "cell_type": "markdown",
   "id": "838b6dec",
   "metadata": {
    "id": "838b6dec"
   },
   "source": [
    "## Introduction\n",
    "\n",
    "The singular value decomposition of a $m \\times n$ real matrix $M$ is a factorization \n",
    "\n",
    "$$\n",
    "M = U \\Sigma V^\\mathrm{T},\n",
    "$$\n",
    "\n",
    "where $\\Sigma$ is a $r \\times r$ diagonal matrix with non-negative entries called singular values and $V^\\mathrm{T}$ denotes the transpose of $V$.\n",
    "Additionally, the columns of $U \\in \\mathbb{R}^{m \\times r}$ and $V \\in \\mathbb{R}^{n \\times r}$ are orthonormal and called left-singular vectors and right-singular vectors, respectively. \n",
    "\n",
    "\n",
    "One common use case of the SVD is principle component analysis (PCA), which is the most fundamental dimensionality reduction technique. \n",
    "The PCA can be computed using the SVD of the centered data matrix $X$, which has $N$ rows and each row represents one sample of a $n$ dimensional feature vector.\n",
    "$X$ being centered means that column means have been subtracted and are now equal to zero.\n",
    "\n",
    "The [relationship](https://stats.stackexchange.com/questions/134282/relationship-between-svd-and-pca-how-to-use-svd-to-perform-pca) between SVD and PCA can be summarized as follows:\n",
    "Denote by $\\sigma_1$ the largest singular value of $\\frac{1}{\\sqrt{N - 1}} X$ and by $V_1$ the corresponding right-singular vector.\n",
    "Then, $V_1$ gives the direction with the largest variance of the data and $\\sigma_1$ is the explained variance in this direction.\n",
    "The right-singular vector $V_2$ of the next-largest singular value then represents the direction of largest variance in the dataset not explained by $V_1$, etc.\n",
    "In the case of a dataset with only $n = 2$ features, we can visualize these directions together with the original data points:"
   ]
  },
  {
   "cell_type": "code",
   "execution_count": 2,
   "id": "068106ba",
   "metadata": {
    "colab": {
     "base_uri": "https://localhost:8080/",
     "height": 468
    },
    "id": "068106ba",
    "outputId": "33a87e84-0ddd-4334-eca8-2f9583450074"
   },
   "outputs": [
    {
     "data": {
      "text/html": [
       "\n",
       "<div id=\"altair-viz-9b936e7f225c4499929692f5f97afbbc\"></div>\n",
       "<script type=\"text/javascript\">\n",
       "  (function(spec, embedOpt){\n",
       "    let outputDiv = document.currentScript.previousElementSibling;\n",
       "    if (outputDiv.id !== \"altair-viz-9b936e7f225c4499929692f5f97afbbc\") {\n",
       "      outputDiv = document.getElementById(\"altair-viz-9b936e7f225c4499929692f5f97afbbc\");\n",
       "    }\n",
       "    const paths = {\n",
       "      \"vega\": \"https://cdn.jsdelivr.net/npm//vega@5?noext\",\n",
       "      \"vega-lib\": \"https://cdn.jsdelivr.net/npm//vega-lib?noext\",\n",
       "      \"vega-lite\": \"https://cdn.jsdelivr.net/npm//vega-lite@4.8.1?noext\",\n",
       "      \"vega-embed\": \"https://cdn.jsdelivr.net/npm//vega-embed@6?noext\",\n",
       "    };\n",
       "\n",
       "    function loadScript(lib) {\n",
       "      return new Promise(function(resolve, reject) {\n",
       "        var s = document.createElement('script');\n",
       "        s.src = paths[lib];\n",
       "        s.async = true;\n",
       "        s.onload = () => resolve(paths[lib]);\n",
       "        s.onerror = () => reject(`Error loading script: ${paths[lib]}`);\n",
       "        document.getElementsByTagName(\"head\")[0].appendChild(s);\n",
       "      });\n",
       "    }\n",
       "\n",
       "    function showError(err) {\n",
       "      outputDiv.innerHTML = `<div class=\"error\" style=\"color:red;\">${err}</div>`;\n",
       "      throw err;\n",
       "    }\n",
       "\n",
       "    function displayChart(vegaEmbed) {\n",
       "      vegaEmbed(outputDiv, spec, embedOpt)\n",
       "        .catch(err => showError(`Javascript Error: ${err.message}<br>This usually means there's a typo in your chart specification. See the javascript console for the full traceback.`));\n",
       "    }\n",
       "\n",
       "    if(typeof define === \"function\" && define.amd) {\n",
       "      requirejs.config({paths});\n",
       "      require([\"vega-embed\"], displayChart, err => showError(`Error loading script: ${err.message}`));\n",
       "    } else if (typeof vegaEmbed === \"function\") {\n",
       "      displayChart(vegaEmbed);\n",
       "    } else {\n",
       "      loadScript(\"vega\")\n",
       "        .then(() => loadScript(\"vega-lite\"))\n",
       "        .then(() => loadScript(\"vega-embed\"))\n",
       "        .catch(showError)\n",
       "        .then(() => displayChart(vegaEmbed));\n",
       "    }\n",
       "  })({\"config\": {\"view\": {\"continuousWidth\": 400, \"continuousHeight\": 300}}, \"layer\": [{\"data\": {\"name\": \"data-a087bbc9e69b4787cd3e0e174411c51a\"}, \"mark\": {\"type\": \"point\", \"shape\": \"cross\", \"size\": 40}, \"encoding\": {\"x\": {\"type\": \"quantitative\", \"field\": \"x\", \"scale\": {\"domain\": [-2, 2]}}, \"y\": {\"type\": \"quantitative\", \"field\": \"y\", \"scale\": {\"domain\": [-2, 2]}}}, \"height\": 400, \"selection\": {\"selector001\": {\"type\": \"interval\", \"bind\": \"scales\", \"encodings\": [\"x\", \"y\"]}}, \"width\": 400}, {\"data\": {\"name\": \"data-0f06e93adaa871f55e392cade13e5e42\"}, \"mark\": \"line\", \"encoding\": {\"color\": {\"type\": \"nominal\", \"field\": \"Legend\"}, \"detail\": {\"type\": \"nominal\", \"field\": \"Legend\"}, \"x\": {\"type\": \"quantitative\", \"field\": \"x\"}, \"y\": {\"type\": \"quantitative\", \"field\": \"y\"}}, \"selection\": {\"selector002\": {\"type\": \"interval\", \"bind\": \"scales\", \"encodings\": [\"x\", \"y\"]}}}], \"$schema\": \"https://vega.github.io/schema/vega-lite/v4.8.1.json\", \"datasets\": {\"data-a087bbc9e69b4787cd3e0e174411c51a\": [{\"x\": 0.499040111386132, \"y\": 1.3470753877825756}, {\"x\": 0.8893084692225819, \"y\": -0.46142280514040807}, {\"x\": 3.276295668760406, \"y\": 2.0492122164959596}, {\"x\": 2.3174675881421516, \"y\": 0.6242142653079025}, {\"x\": -0.34896610632088315, \"y\": -0.2407992313418399}, {\"x\": 1.8145734956949433, \"y\": -0.09657426709013404}, {\"x\": 1.7874266447849825, \"y\": -0.03422257229808862}, {\"x\": 0.40739936092696594, \"y\": 0.47393487365581805}, {\"x\": 0.3095368325940749, \"y\": -0.54822613131681}, {\"x\": 0.07937473323515847, \"y\": 1.5596829994480323}, {\"x\": 0.15986176922911052, \"y\": 1.3634140895507334}, {\"x\": 0.13984547185841728, \"y\": -1.7333897201933652}, {\"x\": 0.783133412361637, \"y\": 0.0900017732362748}, {\"x\": -1.2674899473512928, \"y\": -0.42296255878726424}, {\"x\": 0.04140709148330074, \"y\": -0.16027847623158517}, {\"x\": -1.0375694427446673, \"y\": -0.1170009850198884}, {\"x\": -1.0737725967980973, \"y\": 0.5320306553011561}, {\"x\": -2.1808002214053834, \"y\": 0.6830025324801903}, {\"x\": -0.26309120538248043, \"y\": 0.06230067222972742}, {\"x\": 0.08393603561954428, \"y\": -0.23288835050189682}, {\"x\": -0.2806928979745076, \"y\": 1.012519589776966}, {\"x\": 1.034346311277731, \"y\": 0.37253384035773623}, {\"x\": 0.7833252894176486, \"y\": 1.1237979536126728}, {\"x\": 0.12685790327313398, \"y\": 0.3829824032775471}, {\"x\": -1.0384156128045705, \"y\": -0.48180198419285564}, {\"x\": 0.544533979558484, \"y\": 2.133056817982007}, {\"x\": 1.5025932397607147, \"y\": -1.524532322481498}, {\"x\": -1.5783288578599517, \"y\": -1.9540745689832237}, {\"x\": -0.12303607388399958, \"y\": -1.3019671784643458}, {\"x\": -0.996514410138908, \"y\": -0.4687156305052088}, {\"x\": -0.3236576259742412, \"y\": 0.5888860622813334}, {\"x\": 1.2027713085917062, \"y\": -0.9413634397421471}, {\"x\": 0.4946461394725268, \"y\": -1.7479130493751165}, {\"x\": -1.427881657149866, \"y\": 0.5667091573546742}, {\"x\": 0.14263406910966944, \"y\": -0.422566726444803}, {\"x\": -0.6901912031033033, \"y\": 0.66368408816094}, {\"x\": -0.2951322527026031, \"y\": -0.09462055006034714}, {\"x\": -1.0174638941728904, \"y\": -0.414516449330645}, {\"x\": -2.2034409685955025, \"y\": -1.6827316117278477}, {\"x\": 0.8603622003717634, \"y\": 1.9724497213471117}, {\"x\": -0.9808905212653228, \"y\": -0.7018106186521499}, {\"x\": 1.3504375037753196, \"y\": 0.8950520049312706}, {\"x\": -0.08652584837822755, \"y\": 0.1466761444960618}, {\"x\": -2.1869139773391284, \"y\": -0.39584412684681936}, {\"x\": 1.8268752119931515, \"y\": 1.498402898230798}, {\"x\": -0.3007409900554471, \"y\": 0.38904351212483895}, {\"x\": 0.5976740191642422, \"y\": 1.5089773635032342}, {\"x\": -0.5855513864547949, \"y\": -1.9190691339557842}, {\"x\": -0.4084330356421615, \"y\": -0.946423739888817}, {\"x\": 0.01168133603944243, \"y\": -0.020823202261529374}, {\"x\": -0.6903577555325704, \"y\": -0.464079367178926}, {\"x\": -0.06978049514645637, \"y\": -0.1710601410449856}, {\"x\": 0.05954870523115755, \"y\": 0.5654537003525341}, {\"x\": 1.0979203785221816, \"y\": 0.8160340532834058}, {\"x\": -0.5461272840170784, \"y\": -1.6159937700806593}, {\"x\": -0.6389984497203159, \"y\": 0.8630230968536494}, {\"x\": 1.0464439175696014, \"y\": -0.2839937358569262}, {\"x\": 0.03190520076212111, \"y\": 0.3213329450668664}, {\"x\": 1.003421424607274, \"y\": 0.20168240398280202}, {\"x\": -0.11587087213616874, \"y\": 1.3453791820355345}, {\"x\": -0.09827350112442443, \"y\": -2.4555223911367934}, {\"x\": 0.6635519877037162, \"y\": -0.1496629617370987}, {\"x\": -1.603290897019423, \"y\": -0.8190875284377619}, {\"x\": -0.7827662061657752, \"y\": -0.9717754414982733}, {\"x\": -0.9654701356619326, \"y\": 0.9093147042368918}, {\"x\": 0.0895960526000847, \"y\": 0.9049966217644665}, {\"x\": -0.6365449272784803, \"y\": -0.46827727609794173}, {\"x\": -0.8978603606533904, \"y\": 0.7704705092917186}, {\"x\": -0.15734077896079762, \"y\": 1.1396631476842347}, {\"x\": -0.5333210759849282, \"y\": -1.190108757411736}, {\"x\": -0.0260369862756715, \"y\": -1.3268043936460068}, {\"x\": -0.6226022149528861, \"y\": -0.3195985658870363}, {\"x\": 1.6859099476373904, \"y\": 1.462378901363131}, {\"x\": 0.7365703761778056, \"y\": 0.2040742158158971}, {\"x\": -0.2465088190013837, \"y\": 0.13375036842454735}, {\"x\": -2.673329868129686, \"y\": -0.47497711638964235}, {\"x\": -0.6047732269980164, \"y\": -0.54209702136867}, {\"x\": -0.8868553632482525, \"y\": 0.10993690655696459}, {\"x\": -1.0203296766571681, \"y\": -0.31922427774001005}, {\"x\": -0.5117634346869507, \"y\": 0.4604542305320255}, {\"x\": 0.4488104345832673, \"y\": 0.6919244282475412}, {\"x\": 0.2710722998142477, \"y\": -1.816370704630447}, {\"x\": -0.6080436060882418, \"y\": 0.29179926284490587}, {\"x\": 0.857777169268732, \"y\": -0.9673893791770891}, {\"x\": 0.561923065356995, \"y\": -0.3702277576463317}, {\"x\": 0.8111302533846394, \"y\": 0.4546104237489252}, {\"x\": -0.33151892938562005, \"y\": 0.10775085278780543}, {\"x\": -0.4002060475416171, \"y\": 0.9314523955197536}, {\"x\": 0.4331411392648113, \"y\": 1.424226197563164}, {\"x\": -0.13839500818861253, \"y\": -0.08205302545761414}, {\"x\": -0.31607135751580323, \"y\": -2.186930321845965}, {\"x\": -2.0587920660437447, \"y\": -1.1910253862575544}, {\"x\": -0.39947278273608483, \"y\": -0.08462723351813939}, {\"x\": -0.9386170714248696, \"y\": -0.060193153339546314}, {\"x\": -0.4398879225613852, \"y\": 0.392008851915329}, {\"x\": -0.6213751185174406, \"y\": 1.422478115401674}, {\"x\": 0.9655028357447673, \"y\": 1.8799355396428683}, {\"x\": 0.30125818359422907, \"y\": 0.3329843974281067}, {\"x\": -0.3302581068885809, \"y\": -0.5888155606701303}, {\"x\": 2.1930507246898996, \"y\": 1.167208560975611}, {\"x\": 1.4667943181258452, \"y\": 1.2016917816796737}, {\"x\": -1.2955821791165685, \"y\": 0.7481953176701147}, {\"x\": 1.6256912535760615, \"y\": 0.8634134204931599}, {\"x\": 0.5112458018634136, \"y\": 0.4793708472874837}, {\"x\": 0.29929930193327836, \"y\": 0.5723422058007137}, {\"x\": -1.1475263771127462, \"y\": -2.9188466276591276}, {\"x\": -1.4036068249792584, \"y\": 0.24716631702629543}, {\"x\": -0.10918199060116612, \"y\": -0.30888287316359786}, {\"x\": 0.8014428693966539, \"y\": 0.36220163153421175}, {\"x\": -0.2925925129096187, \"y\": 0.19374934063072033}, {\"x\": -0.23079133849267794, \"y\": -0.9618716193907085}, {\"x\": 0.923337009436392, \"y\": -0.8411045287227248}, {\"x\": 0.4865421150883096, \"y\": -1.0739887369969423}, {\"x\": 1.4091463104421011, \"y\": 1.2456115769968372}, {\"x\": 0.17237578071751578, \"y\": 0.3595344305834708}, {\"x\": -0.5194298084808909, \"y\": 0.527997303346859}, {\"x\": -1.1057691320104952, \"y\": -1.4506720778154827}, {\"x\": -1.3105604245775877, \"y\": -0.9424968161159168}, {\"x\": -0.4112753044217541, \"y\": 1.3062054526719484}, {\"x\": -0.3862826564656429, \"y\": 0.1673612964916674}, {\"x\": 0.40755931610255325, \"y\": -0.3900534820839249}, {\"x\": -1.9529644473324674, \"y\": -1.9421749755971132}, {\"x\": 0.6049424858973425, \"y\": 0.5731721825583692}, {\"x\": 0.3292950869551873, \"y\": -0.6284202025618377}, {\"x\": -0.3179928531147257, \"y\": -0.4424067837101952}, {\"x\": -0.6111976364755264, \"y\": 1.0307228096788417}, {\"x\": 0.8836057371665055, \"y\": 1.2255091435385963}, {\"x\": 1.0079770406334627, \"y\": -0.661009624303599}, {\"x\": 1.3539050097135514, \"y\": 1.8791277104433517}, {\"x\": -0.35923133185676653, \"y\": 0.7171872819797475}, {\"x\": 0.21063883507261724, \"y\": 1.8418329723697608}, {\"x\": -1.2340481174249291, \"y\": -1.5922315364038284}, {\"x\": 0.2685558666424998, \"y\": 0.1201961357271858}, {\"x\": 0.620681439050865, \"y\": -0.010566683530850145}, {\"x\": -2.1276841894261285, \"y\": -0.7528513123279688}, {\"x\": 0.24872545574313806, \"y\": -0.01606048436781633}, {\"x\": 1.211829122091525, \"y\": 0.9873472543867245}, {\"x\": -1.5891350252197887, \"y\": -0.8848775756137796}, {\"x\": 0.6621048095364813, \"y\": -1.7879873824920842}, {\"x\": 2.267031210705213, \"y\": 0.6206943597548409}, {\"x\": 0.5523986424860252, \"y\": -0.715605437943158}, {\"x\": 0.365383582108629, \"y\": 0.11345791064749085}, {\"x\": 0.73161346599591, \"y\": 0.4821176725166957}, {\"x\": 0.0338632816841229, \"y\": -0.03366895092059218}, {\"x\": 0.1061053458157493, \"y\": -0.2829846133943907}, {\"x\": 0.8779895307458288, \"y\": -0.23946851023187457}, {\"x\": 0.6250331669433085, \"y\": 1.143776930420891}, {\"x\": 0.4089200299354035, \"y\": -1.3941759974033052}, {\"x\": 0.5973502352035653, \"y\": 0.6039644814857759}, {\"x\": 0.8297270086201931, \"y\": 0.08907134140134422}, {\"x\": 0.02432897110315962, \"y\": 0.6796359358331449}, {\"x\": 1.0098172323429557, \"y\": 0.7945448325281804}, {\"x\": 1.3054431609629216, \"y\": 0.41570565406445964}, {\"x\": -0.1630786653739728, \"y\": 0.9749171689970871}, {\"x\": -0.8127626601937048, \"y\": -0.28317828400934897}, {\"x\": -0.7955276309194577, \"y\": 0.494369172896048}, {\"x\": -1.7031788284580371, \"y\": -2.1985928421424172}, {\"x\": -0.10194464401841774, \"y\": 2.4896365759299144}, {\"x\": 0.7001562865049353, \"y\": 1.4077535315795942}, {\"x\": -1.3552364910625136, \"y\": -1.1805601741205562}, {\"x\": -0.3480907083709804, \"y\": 1.0276535474571602}, {\"x\": -0.4548371229459116, \"y\": -0.42948883150633954}, {\"x\": -1.9686636488156322, \"y\": 0.8077399567903021}, {\"x\": -0.8045287440050715, \"y\": -0.06205252027116885}, {\"x\": -1.8314034221360456, \"y\": -0.546444608556147}, {\"x\": -0.22664275823372002, \"y\": 0.8443449407760106}, {\"x\": 0.08404821024061691, \"y\": 0.5105824877068628}, {\"x\": 0.6108842107442578, \"y\": 0.5843138835858875}, {\"x\": 0.07116348306581154, \"y\": -0.13705555104673328}, {\"x\": -1.9237192506551002, \"y\": -1.7761476337637792}, {\"x\": 1.2072557267693043, \"y\": -0.05032868281004468}, {\"x\": 1.922188750412861, \"y\": 2.0190893546103874}, {\"x\": -1.4089866511891724, \"y\": -0.4504293865777186}, {\"x\": -0.680296564801022, \"y\": -1.4911198037364681}, {\"x\": 0.28620112505624923, \"y\": 0.7971427417363901}, {\"x\": -1.5605011877961654, \"y\": -1.1351193033912872}, {\"x\": -0.2436076635755065, \"y\": -0.7297285652271647}, {\"x\": -0.7293948933398544, \"y\": -0.8885806249420867}, {\"x\": 0.08680095640193021, \"y\": 2.1420460337394682}, {\"x\": 0.3951488892687733, \"y\": -0.22566445544272493}, {\"x\": 0.36199574815445995, \"y\": 0.08608176431535149}, {\"x\": 0.9552525962323073, \"y\": -0.5399015844884587}, {\"x\": -1.4118984387673323, \"y\": -0.7690136773428669}, {\"x\": 0.6287470870935141, \"y\": -1.3146446825981788}, {\"x\": 0.49271715080840617, \"y\": -0.5337912340009711}, {\"x\": -0.29350753189885403, \"y\": 1.034235554904204}, {\"x\": -0.3323227526815641, \"y\": 1.3477312724128845}, {\"x\": 0.29472485113174907, \"y\": 0.5181448498178095}, {\"x\": -1.326798352481246, \"y\": -0.1212354512423538}, {\"x\": 0.2784947478770835, \"y\": 0.921402090392999}, {\"x\": -0.8348269277272811, \"y\": -2.1284682508220714}, {\"x\": 1.7880924018240665, \"y\": 0.10298478304238762}, {\"x\": 2.262646251258262, \"y\": 0.2660574816470522}, {\"x\": -0.7215916583254033, \"y\": -0.12237136170640255}, {\"x\": 1.4602525680416107, \"y\": 0.658385674128164}, {\"x\": -1.4770219102780127, \"y\": -1.7021206597955076}, {\"x\": 1.282214071247473, \"y\": -0.0631332057601641}, {\"x\": -0.7039008589139386, \"y\": -0.23554652524591466}, {\"x\": -0.6417231868512069, \"y\": -1.1809025855020026}, {\"x\": 0.7546126409461025, \"y\": 1.108387505776117}], \"data-0f06e93adaa871f55e392cade13e5e42\": [{\"x\": 0.0, \"y\": 0.0, \"Legend\": \"\\u03c3\\u2081V\\u2081\"}, {\"x\": -0.8480177822893175, \"y\": -0.850394892437998, \"Legend\": \"\\u03c3\\u2081V\\u2081\"}, {\"x\": 0.0, \"y\": 0.0, \"Legend\": \"\\u03c3\\u2082V\\u2082\"}, {\"x\": -0.5576391667537219, \"y\": 0.5560803971345961, \"Legend\": \"\\u03c3\\u2082V\\u2082\"}]}}, {\"mode\": \"vega-lite\"});\n",
       "</script>"
      ],
      "text/plain": [
       "alt.LayerChart(...)"
      ]
     },
     "execution_count": 2,
     "metadata": {},
     "output_type": "execute_result"
    }
   ],
   "source": [
    "#collapse\n",
    "N = 200\n",
    "samples = multivariate_normal(cov=np.array([[1, 0.4], [0.4, 1]])).rvs(size=N)\n",
    "df = pd.DataFrame({\"x\": samples[:, 0], \"y\": samples[:, 1]})\n",
    "SVD = namedtuple(\"SVD\", \"U, S, V\")\n",
    "svd = SVD(*np.linalg.svd(samples / np.sqrt(N - 1)))\n",
    "\n",
    "scatter_plot = (\n",
    "    alt.Chart(df)\n",
    "    .mark_point(shape=\"cross\", size=40)\n",
    "    .encode(\n",
    "        x=alt.X(\"x\", scale=alt.Scale(domain=(-2, 2))),\n",
    "        y=alt.Y(\"y\", scale=alt.Scale(domain=(-2, 2))),\n",
    "    )\n",
    ").properties(\n",
    "    width=400,\n",
    "    height=400\n",
    ").interactive()\n",
    "\n",
    "\n",
    "df = pd.DataFrame({\n",
    "    \"x\": [0, svd.S[0] * svd.V[0, 0], 0, svd.S[1] * svd.V[1, 0]], \n",
    "    \"y\": [0, svd.S[0] * svd.V[0, 1], 0, svd.S[1] * svd.V[1, 1]],\n",
    "    \"Legend\": ['σ₁V₁', 'σ₁V₁', 'σ₂V₂', 'σ₂V₂']\n",
    "})\n",
    "\n",
    "arrow_plot = (\n",
    "    alt.Chart(df).mark_line().encode(\n",
    "        x=\"x\", y=\"y\", detail=\"Legend\", color=\"Legend\"\n",
    "    )\n",
    ").interactive()\n",
    "\n",
    "alt.layer(scatter_plot, arrow_plot)"
   ]
  },
  {
   "cell_type": "markdown",
   "id": "d1c18de4",
   "metadata": {
    "id": "d1c18de4"
   },
   "source": [
    "For higher dimensional datasets, the first few largest singular values of $X$ and the corresponding singular vectors often capture a large fraction of the general properties of $X$.\n",
    "This combined with its simplicity makes PCA such a widely used tool for dimensionality reduction and data visualization.\n",
    "\n",
    "The example of PCA highlights that for many use cases, computing the full SVD is unnecessary.\n",
    "Instead, the *truncated SVD*, i.e. computing the largest singular values and the corresponding singular vectors, is often sufficient. \n",
    "By only computing a small subset of the full SVD, the truncated SVD can also be much faster.\n",
    "However, [efficient algorithms](https://stats.stackexchange.com/questions/159325/what-fast-algorithms-exist-for-computing-truncated-svd) for truncated SVD such as Krylov subspace methods tend to be complex and challenging to implement.\n",
    "That's the reason why most scientific computing packages including [Scipy](https://docs.scipy.org/doc/scipy/reference/generated/scipy.sparse.linalg.svds.html) are wrapping libraries like Arpack -- a more than 20 year old implementation in Fortran77.\n",
    "\n",
    "\n",
    "This is where the randomized truncated SVD gets to shine:\n",
    "Not only can we implement a basic version in 15 lines of Python, that implementation also performs just as well as the much more intricate algorithm used in Scipy.\n",
    "And as the cherry on top, we even benefit from GPU acceleration using the same exact implementation in pytorch."
   ]
  },
  {
   "cell_type": "markdown",
   "id": "ce4edb71",
   "metadata": {
    "id": "ce4edb71"
   },
   "source": [
    "## Randomized Truncated SVD\n",
    "\n",
    "The idea behind randomized matrix decompositions is quite simple{% fn 1 %}:\n",
    "First, we need to find a $m \\times p$ matrix Q with orthonormal columns such that\n",
    "$$\n",
    "M \\approx Q Q^{\\mathrm{T}} M\n",
    "$$\n",
    "We'll refer to this as the Q-condition.\n",
    "Next, we compute the (full) SVD for B\n",
    "$$\n",
    "B = Q^{\\mathrm{T}} M = \\hat U \\Sigma V.\n",
    "$$\n",
    "The Q-condition now implies, that $U = Q \\hat U$ together with $\\Sigma$ and $V$ is a SVD for $M$.\n",
    "To put this into words: \n",
    "We use the matrix $Q^{\\mathrm{T}}$ to \"project\" $M$, compute the standard SVD of the projection, and then transform the right-singular vectors back using $Q$.\n",
    "\n",
    "\n",
    "So why would this algorithm be any faster than simply computing the full SVD?\n",
    "Especially since we're computing the full SVD of $B$ as the second step.\n",
    "Indeed, the version presented above can only provide a speedup if $p$ is much smaller than $n$, and hence, $B$ has much fewer components than $M$.\n",
    "To make things worse, it turns out that with no further restrictions on $M$, the Q-condition is actually impossible{% fn 2 %} to fulfill unless $p \\ge n$.\n",
    "However, if we are only interested in the $k$ largest singular values and the matrix $M$ fulfills certain technical conditions, the following construction fulfills a (slightly modified version) of the Q-condition for $p = k + 10$ **with high probability**{% fn 1 %}:"
   ]
  },
  {
   "cell_type": "code",
   "execution_count": 3,
   "id": "9cae38f0",
   "metadata": {
    "id": "9cae38f0"
   },
   "outputs": [],
   "source": [
    "def randomized_range_finder(M, *, size, n_iter, n_oversamples=10):\n",
    "    # Intialize Q randomly using Normal-distributed components\n",
    "    Q = torch.randn(M.shape[1], size + n_oversamples, device=M.device)\n",
    "    # Perform power-iteration a few times\n",
    "    for i in range(n_iter):\n",
    "        Q = M.transpose(-1, -2) @ (M @ Q)\n",
    "    # Ortho-normalize the columns of Q\n",
    "    Q, _ = torch.linalg.qr(M @ Q)\n",
    "    return Q"
   ]
  },
  {
   "cell_type": "markdown",
   "id": "QDe_Fyw2tEns",
   "metadata": {
    "id": "QDe_Fyw2tEns"
   },
   "source": [
    "As previously mentioned, the matrix $Q$ returned from `randomized_range_finder` requires $p$ to be only marginally larger than the number of singular values $k$ we are trying to compute.\n",
    "This results in a tremendous speed-up compared to the full PCA in case $k$ is much smaller than $n$ as commonly the case, e.g. for PCA.\n",
    "We will confirm this in the experiments section below.\n",
    "\n",
    "Before we discuss the elephant in the room, namely the fact that above statement is only true with high probability, let us complete the implementation by turning the truncated SVD algorithm from the beginning of this section into code:"
   ]
  },
  {
   "cell_type": "code",
   "execution_count": 4,
   "id": "4e50a079",
   "metadata": {
    "id": "4e50a079"
   },
   "outputs": [],
   "source": [
    "SVD = namedtuple(\"SVD\", \"U, S, V\")\n",
    "\n",
    "def randomized_svd(M, n_components):\n",
    "    Q = randomized_range_finder(M, size=n_components, n_iter=7)\n",
    "    # Project M\n",
    "    B = Q.transpose(-1, -2) @ M\n",
    "    # Compute full SVD of B\n",
    "    Uhat, s, Vt = torch.linalg.svd(B)\n",
    "    # Un-project U\n",
    "    U = Q @ Uhat\n",
    "    return SVD(U[:, :n_components], s[:n_components], Vt[:n_components, :])"
   ]
  },
  {
   "cell_type": "markdown",
   "id": "08a0cc30",
   "metadata": {
    "id": "08a0cc30"
   },
   "source": [
    "\n",
    "The qualifier \"with high probability\" for `randomized_range_finder` implies that there is a small *chance* that $Q$ computed in this way does not fulfill the Q-condition and the resulting truncated SVD is wrong.\n",
    "This probabilistic nature is in stark contrast to the majority of linear algebra algorithms, which are deterministic.\n",
    "It also implies that we can never be 100% sure that the result we obtained is correct.\n",
    "However, the reason why the randomized truncated SVD is so powerful in practice is that we have full control over its failure probability:\n",
    "We can make the failure probability smaller by increasing the constant in the formula for $p = k + \\ldots$.\n",
    "In fact, the choice $p = k + 10$ ensures that the probability of failure is so small that it can be considered to be zero for all practical purposes.\n",
    "In other words, even though there is a small chance of the algorithm failing, it is so small that we will never encounter this in practice.\n",
    "\n",
    "And this is where a simple algorithm turns into life advise: \n",
    "If we require a solution for the truncated SVD that's perfect – both fast and 100% reliable – we end up with a very complex solution.\n",
    "The kind of solution I would have never chosen to write a blog post about voluntarily.\n",
    "However, by giving us a little bit of room for failure, we end up with a much more elegant and simple solution.\n",
    "And by controlling the probability of these failure cases, we can make sure that they remain a theoretical possibility only and and that they will never occur in practice.\n"
   ]
  },
  {
   "cell_type": "markdown",
   "id": "4efed6c7",
   "metadata": {
    "id": "4efed6c7"
   },
   "source": [
    "## Testing it out\n",
    "\n",
    "As mentioned above, the randomized truncated SVD as it's implemented here works only if the matrix $M$ fulfills certain technical conditions. \n",
    "The most important one is that the singular values we're discarding are small enough such that they can be distinguished sufficiently easy from the singular values we're interested in.\n",
    "In practice this is often the case since otherwise we would not discard those singular values in the first place (e.g. in the case of PCA).\n",
    "There are also further improvements to the algorithm that make them more stable if this is not the case, and hence, these versions rely less on this assumption (see for example the [implementation](https://github.com/scikit-learn/scikit-learn/blob/a25382629b6c3a2bb41d486a45f9dde6ccd021dc/sklearn/utils/extmath.py#L243) used in scikit-learn).\n",
    "\n",
    "Here, we take the easy way out and simply generate matrices that fulfill these conditions using the following functions:"
   ]
  },
  {
   "cell_type": "code",
   "execution_count": 5,
   "id": "d0312b5d",
   "metadata": {
    "id": "d0312b5d"
   },
   "outputs": [],
   "source": [
    "def sample_lowrank_matrix(size, max_rank, *, noise=0.0):\n",
    "    A = torch.randn(size, max_rank)\n",
    "    M = A @ A.transpose(-1, -2) / size + noise * torch.randn(size, size) \n",
    "    return M"
   ]
  },
  {
   "cell_type": "markdown",
   "id": "841c0535",
   "metadata": {
    "id": "841c0535"
   },
   "source": [
    "These are matrices that have only `max_rank` non-zero singular values in case `noise == 0.0`. \n",
    "If we set `noise` to some non-zero value, but keep it small enough, the singular values will still be sufficiently different for the truncated algorithm to work well."
   ]
  },
  {
   "cell_type": "code",
   "execution_count": 6,
   "id": "65e94da0",
   "metadata": {
    "id": "65e94da0"
   },
   "outputs": [],
   "source": [
    "M = sample_lowrank_matrix(1000, 5)\n",
    "svd_random = randomized_svd(M, 10)\n",
    "svd_standard = torch.linalg.svd(M)"
   ]
  },
  {
   "cell_type": "code",
   "execution_count": 7,
   "id": "2d608db8",
   "metadata": {
    "colab": {
     "base_uri": "https://localhost:8080/",
     "height": 368
    },
    "id": "2d608db8",
    "outputId": "694b5aee-2473-4e1f-c72e-d7fcdea085dd"
   },
   "outputs": [
    {
     "data": {
      "text/html": [
       "\n",
       "<div id=\"altair-viz-daa775c3ef874c4ab3f8d0802fde2be1\"></div>\n",
       "<script type=\"text/javascript\">\n",
       "  (function(spec, embedOpt){\n",
       "    let outputDiv = document.currentScript.previousElementSibling;\n",
       "    if (outputDiv.id !== \"altair-viz-daa775c3ef874c4ab3f8d0802fde2be1\") {\n",
       "      outputDiv = document.getElementById(\"altair-viz-daa775c3ef874c4ab3f8d0802fde2be1\");\n",
       "    }\n",
       "    const paths = {\n",
       "      \"vega\": \"https://cdn.jsdelivr.net/npm//vega@5?noext\",\n",
       "      \"vega-lib\": \"https://cdn.jsdelivr.net/npm//vega-lib?noext\",\n",
       "      \"vega-lite\": \"https://cdn.jsdelivr.net/npm//vega-lite@4.8.1?noext\",\n",
       "      \"vega-embed\": \"https://cdn.jsdelivr.net/npm//vega-embed@6?noext\",\n",
       "    };\n",
       "\n",
       "    function loadScript(lib) {\n",
       "      return new Promise(function(resolve, reject) {\n",
       "        var s = document.createElement('script');\n",
       "        s.src = paths[lib];\n",
       "        s.async = true;\n",
       "        s.onload = () => resolve(paths[lib]);\n",
       "        s.onerror = () => reject(`Error loading script: ${paths[lib]}`);\n",
       "        document.getElementsByTagName(\"head\")[0].appendChild(s);\n",
       "      });\n",
       "    }\n",
       "\n",
       "    function showError(err) {\n",
       "      outputDiv.innerHTML = `<div class=\"error\" style=\"color:red;\">${err}</div>`;\n",
       "      throw err;\n",
       "    }\n",
       "\n",
       "    function displayChart(vegaEmbed) {\n",
       "      vegaEmbed(outputDiv, spec, embedOpt)\n",
       "        .catch(err => showError(`Javascript Error: ${err.message}<br>This usually means there's a typo in your chart specification. See the javascript console for the full traceback.`));\n",
       "    }\n",
       "\n",
       "    if(typeof define === \"function\" && define.amd) {\n",
       "      requirejs.config({paths});\n",
       "      require([\"vega-embed\"], displayChart, err => showError(`Error loading script: ${err.message}`));\n",
       "    } else if (typeof vegaEmbed === \"function\") {\n",
       "      displayChart(vegaEmbed);\n",
       "    } else {\n",
       "      loadScript(\"vega\")\n",
       "        .then(() => loadScript(\"vega-lite\"))\n",
       "        .then(() => loadScript(\"vega-embed\"))\n",
       "        .catch(showError)\n",
       "        .then(() => displayChart(vegaEmbed));\n",
       "    }\n",
       "  })({\"config\": {\"view\": {\"continuousWidth\": 400, \"continuousHeight\": 300}}, \"layer\": [{\"data\": {\"name\": \"data-6402545a8fadb438c082b1e3419fcb75\"}, \"mark\": {\"type\": \"point\", \"size\": 40}, \"encoding\": {\"color\": {\"type\": \"nominal\", \"field\": \"Algorithm\"}, \"shape\": {\"type\": \"nominal\", \"field\": \"Algorithm\"}, \"tooltip\": [{\"type\": \"nominal\", \"field\": \"Algorithm\"}, {\"type\": \"quantitative\", \"field\": \"Value\"}], \"x\": {\"type\": \"quantitative\", \"field\": \"Rank\"}, \"y\": {\"type\": \"quantitative\", \"axis\": {\"title\": \"Singular Value\"}, \"field\": \"Value\"}}, \"selection\": {\"selector003\": {\"type\": \"interval\", \"bind\": \"scales\", \"encodings\": [\"x\", \"y\"]}}}, {\"data\": {\"name\": \"data-5f1467f1ad9242d7db0b0fe0a03551c2\"}, \"mark\": {\"type\": \"line\", \"color\": \"gray\", \"strokeDash\": [2, 2]}, \"encoding\": {\"tooltip\": [{\"type\": \"quantitative\", \"field\": \"Error\"}], \"x\": {\"type\": \"quantitative\", \"field\": \"Rank\"}, \"y\": {\"type\": \"quantitative\", \"axis\": {\"title\": \"Singular Vector Error\", \"titleColor\": \"gray\"}, \"field\": \"Error\"}}, \"selection\": {\"selector004\": {\"type\": \"interval\", \"bind\": \"scales\", \"encodings\": [\"x\", \"y\"]}}}], \"resolve\": {\"scale\": {\"y\": \"independent\"}}, \"$schema\": \"https://vega.github.io/schema/vega-lite/v4.8.1.json\", \"datasets\": {\"data-6402545a8fadb438c082b1e3419fcb75\": [{\"Rank\": 0, \"Value\": 1.0565063953399658, \"Algorithm\": \"SVD\"}, {\"Rank\": 1, \"Value\": 1.0148131847381592, \"Algorithm\": \"SVD\"}, {\"Rank\": 2, \"Value\": 0.9988871812820435, \"Algorithm\": \"SVD\"}, {\"Rank\": 3, \"Value\": 0.9541416168212891, \"Algorithm\": \"SVD\"}, {\"Rank\": 4, \"Value\": 0.890209436416626, \"Algorithm\": \"SVD\"}, {\"Rank\": 5, \"Value\": 2.930237030795979e-08, \"Algorithm\": \"SVD\"}, {\"Rank\": 6, \"Value\": 2.7026068494251376e-08, \"Algorithm\": \"SVD\"}, {\"Rank\": 7, \"Value\": 2.657505682179817e-08, \"Algorithm\": \"SVD\"}, {\"Rank\": 8, \"Value\": 2.540315335863852e-08, \"Algorithm\": \"SVD\"}, {\"Rank\": 9, \"Value\": 2.4707670576162855e-08, \"Algorithm\": \"SVD\"}, {\"Rank\": 0, \"Value\": 1.0565063953399658, \"Algorithm\": \"Randomized SVD\"}, {\"Rank\": 1, \"Value\": 1.0148136615753174, \"Algorithm\": \"Randomized SVD\"}, {\"Rank\": 2, \"Value\": 0.9988870620727539, \"Algorithm\": \"Randomized SVD\"}, {\"Rank\": 3, \"Value\": 0.9541417956352234, \"Algorithm\": \"Randomized SVD\"}, {\"Rank\": 4, \"Value\": 0.8902095556259155, \"Algorithm\": \"Randomized SVD\"}, {\"Rank\": 5, \"Value\": 8.735362371226074e-07, \"Algorithm\": \"Randomized SVD\"}, {\"Rank\": 6, \"Value\": 7.8894998978285e-07, \"Algorithm\": \"Randomized SVD\"}, {\"Rank\": 7, \"Value\": 7.058805522319744e-07, \"Algorithm\": \"Randomized SVD\"}, {\"Rank\": 8, \"Value\": 6.335479270092037e-07, \"Algorithm\": \"Randomized SVD\"}, {\"Rank\": 9, \"Value\": 5.772844247076137e-07, \"Algorithm\": \"Randomized SVD\"}], \"data-5f1467f1ad9242d7db0b0fe0a03551c2\": [{\"Rank\": 0, \"Error\": 1.0552496860327665e-05}, {\"Rank\": 1, \"Error\": 2.325863351870794e-05}, {\"Rank\": 2, \"Error\": 2.2786234694649465e-05}, {\"Rank\": 3, \"Error\": 5.680009508068906e-06}, {\"Rank\": 4, \"Error\": 4.656014880310977e-06}, {\"Rank\": 5, \"Error\": 1.444787621498108}, {\"Rank\": 6, \"Error\": 1.4138785600662231}, {\"Rank\": 7, \"Error\": 1.3476427793502808}, {\"Rank\": 8, \"Error\": 1.3953497409820557}, {\"Rank\": 9, \"Error\": 1.4671616554260254}]}}, {\"mode\": \"vega-lite\"});\n",
       "</script>"
      ],
      "text/plain": [
       "alt.LayerChart(...)"
      ]
     },
     "execution_count": 7,
     "metadata": {},
     "output_type": "execute_result"
    }
   ],
   "source": [
    "#collapse\n",
    "def to_numpy(svd: SVD):\n",
    "    return SVD(*map(lambda t: t.cpu().numpy(), svd))\n",
    "\n",
    "def svd_flip(svd: SVD):\n",
    "    max_abs_cols = torch.argmax(np.abs(svd.U), dim=0)\n",
    "    signs = torch.sign(svd.U[max_abs_cols, range(svd.U.shape[1])])\n",
    "    svd.U[:] *= signs\n",
    "    svd.V[:] *= signs[:, None]\n",
    "    return svd\n",
    "\n",
    "def plot_singular_values(limit_ranks, **kwargs):\n",
    "    kwargs = {name: to_numpy(val) for name, val in kwargs.items()}\n",
    "    data = [\n",
    "        pd.DataFrame(\n",
    "            {\n",
    "                \"Rank\": np.arange(len(svd.S))[:limit_ranks], \n",
    "                \"Value\": svd.S[:limit_ranks], \n",
    "                \"Algorithm\": name,\n",
    "            }\n",
    "        )\n",
    "    for name, svd in kwargs.items()\n",
    "    ]                                                                           \n",
    "    data = pd.concat(data)\n",
    "        \n",
    "    return (\n",
    "        alt.Chart(data)\n",
    "        .mark_point(size=40)\n",
    "        .encode(\n",
    "            x=\"Rank\", \n",
    "            y=alt.Y(\"Value\", axis=alt.Axis(title=\"Singular Value\")),\n",
    "            color=\"Algorithm\", \n",
    "            shape=\"Algorithm\",\n",
    "            tooltip=[\"Algorithm\", \"Value\"],\n",
    "        )\n",
    "    ).interactive()\n",
    "\n",
    "def plot_singular_vector_errors(svd1, svd2, *, limit_ranks):\n",
    "    svd1, svd2 = to_numpy(svd_flip(svd1)), to_numpy(svd_flip(svd2))\n",
    "    errors = np.linalg.norm(svd1.U[:, :limit_ranks] - svd2.U[:, :limit_ranks], axis=0)\n",
    "    data = pd.DataFrame(\n",
    "        {\n",
    "            \"Rank\": np.arange(len(errors)), \"Error\":errors\n",
    "        }\n",
    "    )\n",
    "    return (\n",
    "        alt.Chart(data)\n",
    "        .mark_line(color=\"gray\", strokeDash=[2,2])\n",
    "        .encode(\n",
    "            x=\"Rank\", \n",
    "            y=alt.Y(\n",
    "                \"Error\", \n",
    "                axis=alt.Axis(title='Singular Vector Error', titleColor=\"gray\"), \n",
    "                #scale=alt.Scale(domain=(0, 1.414))\n",
    "            ),\n",
    "            tooltip=[\"Error\"],\n",
    "        )\n",
    "    ).interactive()\n",
    "\n",
    "alt.layer(\n",
    "    plot_singular_values(limit_ranks=10, **{\"SVD\": svd_random, \"Randomized SVD\": svd_standard}),\n",
    "    plot_singular_vector_errors(svd_random, svd_standard, limit_ranks=10)\n",
    ").resolve_scale(y=\"independent\")"
   ]
  },
  {
   "cell_type": "markdown",
   "id": "babc19f0",
   "metadata": {
    "id": "babc19f0"
   },
   "source": [
    "This plot shows the singular values in descending order on the left y-axis using the x-axis to distinguish between them.\n",
    "We compute the singular values either using our truncated SVD implementation (blue circles) or using full SVD (orange squares).\n",
    "Both methods agree very well.\n",
    "Since we set `max_rank` for the matrix `M` to 5, only the first five singular values are nonzero.\n",
    "\n",
    "The dotted line, which is scaled w.r.t. the right y-axis, shows the distance between the singular vectors computed with each method.\n",
    "As long as the singular values are non-zero both methods agree very well.\n",
    "However, for the vanishing singular values, the corresponding singular vectors show a very large discrepancy. \n",
    "This is due to the fact that there's no natural order for the vanishing singular values anymore and the $i$-th singular vector computed with one method does not need to match with the $i$-th singular vector computed with a different method{% fn 3 %}."
   ]
  },
  {
   "cell_type": "markdown",
   "id": "98cf14d7",
   "metadata": {
    "id": "98cf14d7"
   },
   "source": [
    "Finally, let us compare the performance of different approaches.\n",
    "In the plot below we compare the runtime for a variety matrix sizes for different approaches:\n",
    "- \"cpu\" is the randomized algorithm implemented above run on CPU\n",
    "- \"gpu\" is the randomized algorithm implemented above run on GPU\n",
    "- \"full\" is the standard SVD included in pytorch run on CPU\n",
    "- \"scipy\" is the truncated SVD `scipy.sparse.svds`\n",
    "\n",
    "All runtimes were measured on a Colab GPU instance with a Nvidia T4 and 2 CPU cores.\n",
    "You may need to zoom out to see the times for \"full\" and very large matrix sizes."
   ]
  },
  {
   "cell_type": "code",
   "execution_count": 11,
   "id": "00cdccf4",
   "metadata": {
    "colab": {
     "base_uri": "https://localhost:8080/",
     "height": 368
    },
    "id": "00cdccf4",
    "outputId": "bdbfa934-a02f-48df-ec28-0ca74092c63e"
   },
   "outputs": [
    {
     "data": {
      "text/html": [
       "\n",
       "<div id=\"altair-viz-cd30a2fdc401461d92cd9c916cffff4b\"></div>\n",
       "<script type=\"text/javascript\">\n",
       "  (function(spec, embedOpt){\n",
       "    let outputDiv = document.currentScript.previousElementSibling;\n",
       "    if (outputDiv.id !== \"altair-viz-cd30a2fdc401461d92cd9c916cffff4b\") {\n",
       "      outputDiv = document.getElementById(\"altair-viz-cd30a2fdc401461d92cd9c916cffff4b\");\n",
       "    }\n",
       "    const paths = {\n",
       "      \"vega\": \"https://cdn.jsdelivr.net/npm//vega@5?noext\",\n",
       "      \"vega-lib\": \"https://cdn.jsdelivr.net/npm//vega-lib?noext\",\n",
       "      \"vega-lite\": \"https://cdn.jsdelivr.net/npm//vega-lite@4.8.1?noext\",\n",
       "      \"vega-embed\": \"https://cdn.jsdelivr.net/npm//vega-embed@6?noext\",\n",
       "    };\n",
       "\n",
       "    function loadScript(lib) {\n",
       "      return new Promise(function(resolve, reject) {\n",
       "        var s = document.createElement('script');\n",
       "        s.src = paths[lib];\n",
       "        s.async = true;\n",
       "        s.onload = () => resolve(paths[lib]);\n",
       "        s.onerror = () => reject(`Error loading script: ${paths[lib]}`);\n",
       "        document.getElementsByTagName(\"head\")[0].appendChild(s);\n",
       "      });\n",
       "    }\n",
       "\n",
       "    function showError(err) {\n",
       "      outputDiv.innerHTML = `<div class=\"error\" style=\"color:red;\">${err}</div>`;\n",
       "      throw err;\n",
       "    }\n",
       "\n",
       "    function displayChart(vegaEmbed) {\n",
       "      vegaEmbed(outputDiv, spec, embedOpt)\n",
       "        .catch(err => showError(`Javascript Error: ${err.message}<br>This usually means there's a typo in your chart specification. See the javascript console for the full traceback.`));\n",
       "    }\n",
       "\n",
       "    if(typeof define === \"function\" && define.amd) {\n",
       "      requirejs.config({paths});\n",
       "      require([\"vega-embed\"], displayChart, err => showError(`Error loading script: ${err.message}`));\n",
       "    } else if (typeof vegaEmbed === \"function\") {\n",
       "      displayChart(vegaEmbed);\n",
       "    } else {\n",
       "      loadScript(\"vega\")\n",
       "        .then(() => loadScript(\"vega-lite\"))\n",
       "        .then(() => loadScript(\"vega-embed\"))\n",
       "        .catch(showError)\n",
       "        .then(() => displayChart(vegaEmbed));\n",
       "    }\n",
       "  })({\"config\": {\"view\": {\"continuousWidth\": 400, \"continuousHeight\": 300}}, \"data\": {\"name\": \"data-b16ddc41a462151eb779a6063e4edbd8\"}, \"mark\": {\"type\": \"point\", \"size\": 40}, \"encoding\": {\"color\": {\"type\": \"nominal\", \"field\": \"algorithm\"}, \"shape\": {\"type\": \"nominal\", \"field\": \"algorithm\"}, \"x\": {\"type\": \"quantitative\", \"axis\": {\"title\": \"Matrix Size\"}, \"field\": \"sizes\", \"scale\": {\"type\": \"sqrt\", \"zero\": false}}, \"y\": {\"type\": \"quantitative\", \"axis\": {\"title\": \"Runtime [s]\"}, \"field\": \"runtime\", \"scale\": {\"domain\": [0, 0.55]}}}, \"selection\": {\"selector006\": {\"type\": \"interval\", \"bind\": \"scales\", \"encodings\": [\"x\", \"y\"]}}, \"$schema\": \"https://vega.github.io/schema/vega-lite/v4.8.1.json\", \"datasets\": {\"data-b16ddc41a462151eb779a6063e4edbd8\": [{\"sizes\": 256, \"k\": 2, \"algorithm\": \"cpu\", \"runtime\": 0.0009004425000000001}, {\"sizes\": 512, \"k\": 2, \"algorithm\": \"cpu\", \"runtime\": 0.0031492776}, {\"sizes\": 1024, \"k\": 2, \"algorithm\": \"cpu\", \"runtime\": 0.0146373566}, {\"sizes\": 2048, \"k\": 2, \"algorithm\": \"cpu\", \"runtime\": 0.0658793121}, {\"sizes\": 4096, \"k\": 2, \"algorithm\": \"cpu\", \"runtime\": 0.399800227}, {\"sizes\": 256, \"k\": 2, \"algorithm\": \"full\", \"runtime\": 0.0045911459}, {\"sizes\": 512, \"k\": 2, \"algorithm\": \"full\", \"runtime\": 0.0276984882}, {\"sizes\": 1024, \"k\": 2, \"algorithm\": \"full\", \"runtime\": 0.270168177}, {\"sizes\": 2048, \"k\": 2, \"algorithm\": \"full\", \"runtime\": 2.034404582}, {\"sizes\": 4096, \"k\": 2, \"algorithm\": \"full\", \"runtime\": 19.843143551}, {\"sizes\": 256, \"k\": 2, \"algorithm\": \"scipy\", \"runtime\": 0.0015926768}, {\"sizes\": 512, \"k\": 2, \"algorithm\": \"scipy\", \"runtime\": 0.0041728461000000005}, {\"sizes\": 1024, \"k\": 2, \"algorithm\": \"scipy\", \"runtime\": 0.0122488926}, {\"sizes\": 2048, \"k\": 2, \"algorithm\": \"scipy\", \"runtime\": 0.0462795591}, {\"sizes\": 4096, \"k\": 2, \"algorithm\": \"scipy\", \"runtime\": 0.242916766}, {\"sizes\": 256, \"k\": 2, \"algorithm\": \"gpu\", \"runtime\": 0.005793116}, {\"sizes\": 512, \"k\": 2, \"algorithm\": \"gpu\", \"runtime\": 0.0062681712}, {\"sizes\": 1024, \"k\": 2, \"algorithm\": \"gpu\", \"runtime\": 0.0071049892}, {\"sizes\": 2048, \"k\": 2, \"algorithm\": \"gpu\", \"runtime\": 0.0106654899}, {\"sizes\": 4096, \"k\": 2, \"algorithm\": \"gpu\", \"runtime\": 0.0279226877}]}}, {\"mode\": \"vega-lite\"});\n",
       "</script>"
      ],
      "text/plain": [
       "alt.Chart(...)"
      ]
     },
     "execution_count": 11,
     "metadata": {},
     "output_type": "execute_result"
    }
   ],
   "source": [
    "#collapse\n",
    "matrix_sizes = [2**8, 2**9, 2**10, 2**11, 2**12]\n",
    "results = defaultdict(list)\n",
    "results['sizes'] = matrix_sizes\n",
    "n_components = 2\n",
    "\n",
    "for size in matrix_sizes:\n",
    "    M = sample_lowrank_matrix(size, 3)\n",
    "    time = %timeit -o -q randomized_svd(M, n_components=n_components)\n",
    "    results['cpu'].append(time.best)\n",
    "for size in matrix_sizes:\n",
    "    M = sample_lowrank_matrix(size, 3)\n",
    "    time = %timeit -q -o torch.svd(M)\n",
    "    results[\"full\"].append(time.best)\n",
    "\n",
    "for size in matrix_sizes:\n",
    "    M = sample_lowrank_matrix(size, 3).numpy()\n",
    "    time = %timeit -q -o svds(M, k=n_components)\n",
    "    results[\"scipy\"].append(time.best)\n",
    "\n",
    "if torch.cuda.is_available():\n",
    "    for size in matrix_sizes:\n",
    "        M = sample_lowrank_matrix(size, 3)\n",
    "        time = %timeit -q -o randomized_svd(M.cuda(), n_components=n_components)\n",
    "        results[\"gpu\"].append(time.best)\n",
    "\n",
    "df = pd.DataFrame({**results, \"k\": n_components})\n",
    "value_vars = list(filter(lambda s: s not in {\"sizes\", \"k\"}, df.columns))\n",
    "df = df.melt(id_vars=[\"sizes\", \"k\"], value_vars=value_vars)\n",
    "df.rename(columns={\"value\": \"runtime\", \"variable\": \"algorithm\"}, inplace=True)\n",
    "\n",
    "(\n",
    "    alt.Chart(df)\n",
    "    .mark_point(size=40)\n",
    "    .encode(\n",
    "        x=alt.X(\"sizes\", scale=alt.Scale(type='sqrt', zero=False), axis=alt.Axis(title=\"Matrix Size\")),\n",
    "        y=alt.Y(\"runtime\", scale=alt.Scale(domain=(0, 0.55)), axis=alt.Axis(title=\"Runtime [s]\")),\n",
    "        color=\"algorithm\", \n",
    "        shape=\"algorithm\",\n",
    "    )\n",
    ").interactive()"
   ]
  },
  {
   "cell_type": "markdown",
   "id": "3ef21b2f",
   "metadata": {
    "id": "3ef21b2f"
   },
   "source": [
    "Note that for all truncated SVDs, we set $k=2$, that is we only computed the two largest singular values.\n",
    "Naturally, for larger values of $k$ the difference between the full SVD and the truncated versions would become smaller.\n",
    "\n",
    "We clearly save a lot of time simply by using an algorithm that only computes the necessary singular values and vectors.\n",
    "For the largest matrix size, we see a speedup of over 50x between the full SVD and our simple implementation run on CPU.\n",
    "When we compare the slowest version to the randomized truncated SVD run on GPU, we see an even larger speedup of over 400x.\n",
    "\n",
    "## Conclusion\n",
    "\n",
    "I hope this blog post could convey why I consider the randomized truncated SVD as my favorite algorithm.\n",
    "It solves a very common and important problem, it's fast, it easily runs on GPUs, and it's simple enough to explain in a few minutes.\n",
    "But the most important factor is the insight it provides into the power of probabilistic algorithms in general:\n",
    "If we give up the requirement that an algorithm should work 100% of the time in theory, we have a lot to gain in simplicity and performance.\n",
    "And as long as failure is unlikely enough, it will not make a difference in practice.\n",
    "So stop worrying and start loving the possibility of failure.\n",
    "\n",
    "{{ \"N. Halko, P.-G. Martinsson, and J. A. Tropp, “Finding structure with randomness: Probabilistic algorithms for constructing approximate matrix decompositions,” arXiv:0909.4061 [math], Dec. 2010.\" | fndetail: 1 }}\n",
    "{{ \"One way to show this is to plug in the identity matrix for $M$.\" | fndetail: 2 }}\n",
    "{{ \"In this situation, the singular values are called degenerate. This is an extreme case of singular values not being “distinguishable enough”.\" | fndetail: 3 }}"
   ]
  }
 ],
 "metadata": {
  "accelerator": "GPU",
  "colab": {
   "collapsed_sections": [],
   "name": "2021-06-16-truncated-svd.ipynb",
   "provenance": []
  },
  "kernelspec": {
   "display_name": "Python 3",
   "language": "python",
   "name": "python3"
  },
  "language_info": {
   "codemirror_mode": {
    "name": "ipython",
    "version": 3
   },
   "file_extension": ".py",
   "mimetype": "text/x-python",
   "name": "python",
   "nbconvert_exporter": "python",
   "pygments_lexer": "ipython3",
   "version": "3.8.6"
  },
  "varInspector": {
   "cols": {
    "lenName": 16,
    "lenType": 16,
    "lenVar": 40
   },
   "kernels_config": {
    "python": {
     "delete_cmd_postfix": "",
     "delete_cmd_prefix": "del ",
     "library": "var_list.py",
     "varRefreshCmd": "print(var_dic_list())"
    },
    "r": {
     "delete_cmd_postfix": ") ",
     "delete_cmd_prefix": "rm(",
     "library": "var_list.r",
     "varRefreshCmd": "cat(var_dic_list()) "
    }
   },
   "types_to_exclude": [
    "module",
    "function",
    "builtin_function_or_method",
    "instance",
    "_Feature"
   ],
   "window_display": false
  }
 },
 "nbformat": 4,
 "nbformat_minor": 5
}
