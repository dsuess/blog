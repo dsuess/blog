{
  "nbformat": 4,
  "nbformat_minor": 5,
  "metadata": {
    "kernelspec": {
      "display_name": "Python 3",
      "language": "python",
      "name": "python3"
    },
    "language_info": {
      "codemirror_mode": {
        "name": "ipython",
        "version": 3
      },
      "file_extension": ".py",
      "mimetype": "text/x-python",
      "name": "python",
      "nbconvert_exporter": "python",
      "pygments_lexer": "ipython3",
      "version": "3.8.6"
    },
    "varInspector": {
      "cols": {
        "lenName": 16,
        "lenType": 16,
        "lenVar": 40
      },
      "kernels_config": {
        "python": {
          "delete_cmd_postfix": "",
          "delete_cmd_prefix": "del ",
          "library": "var_list.py",
          "varRefreshCmd": "print(var_dic_list())"
        },
        "r": {
          "delete_cmd_postfix": ") ",
          "delete_cmd_prefix": "rm(",
          "library": "var_list.r",
          "varRefreshCmd": "cat(var_dic_list()) "
        }
      },
      "types_to_exclude": [
        "module",
        "function",
        "builtin_function_or_method",
        "instance",
        "_Feature"
      ],
      "window_display": false
    },
    "colab": {
      "name": "Copy of 2021-06-16-partial-svd.ipynb",
      "provenance": [],
      "collapsed_sections": []
    },
    "accelerator": "GPU"
  },
  "cells": [
    {
      "cell_type": "markdown",
      "metadata": {
        "id": "40c7db44"
      },
      "source": [
        "# Randomized Truncated SVD\n",
        "\n",
        "- subtitle: My favorite algorithm and why you should have one too.\n",
        "- badges: true\n",
        "- categories: [fastpages, jupyter]"
      ],
      "id": "40c7db44"
    },
    {
      "cell_type": "code",
      "metadata": {
        "id": "46d11bb7",
        "colab": {
          "base_uri": "https://localhost:8080/"
        },
        "outputId": "61374122-c896-460d-dc60-d9882b50c002"
      },
      "source": [
        "!pip install altair\n",
        "\n",
        "import altair as alt\n",
        "import pandas as pd\n",
        "import torch\n",
        "import numpy as np\n",
        "from scipy.sparse.linalg import svds\n",
        "\n",
        "from collections import namedtuple"
      ],
      "id": "46d11bb7",
      "execution_count": 1,
      "outputs": [
        {
          "output_type": "stream",
          "text": [
            "Requirement already satisfied: altair in /usr/local/lib/python3.7/dist-packages (4.1.0)\n",
            "Requirement already satisfied: toolz in /usr/local/lib/python3.7/dist-packages (from altair) (0.11.1)\n",
            "Requirement already satisfied: jinja2 in /usr/local/lib/python3.7/dist-packages (from altair) (2.11.3)\n",
            "Requirement already satisfied: pandas>=0.18 in /usr/local/lib/python3.7/dist-packages (from altair) (1.1.5)\n",
            "Requirement already satisfied: entrypoints in /usr/local/lib/python3.7/dist-packages (from altair) (0.3)\n",
            "Requirement already satisfied: numpy in /usr/local/lib/python3.7/dist-packages (from altair) (1.19.5)\n",
            "Requirement already satisfied: jsonschema in /usr/local/lib/python3.7/dist-packages (from altair) (2.6.0)\n",
            "Requirement already satisfied: MarkupSafe>=0.23 in /usr/local/lib/python3.7/dist-packages (from jinja2->altair) (2.0.0)\n",
            "Requirement already satisfied: pytz>=2017.2 in /usr/local/lib/python3.7/dist-packages (from pandas>=0.18->altair) (2018.9)\n",
            "Requirement already satisfied: python-dateutil>=2.7.3 in /usr/local/lib/python3.7/dist-packages (from pandas>=0.18->altair) (2.8.1)\n",
            "Requirement already satisfied: six>=1.5 in /usr/local/lib/python3.7/dist-packages (from python-dateutil>=2.7.3->pandas>=0.18->altair) (1.15.0)\n"
          ],
          "name": "stdout"
        }
      ]
    },
    {
      "cell_type": "markdown",
      "metadata": {
        "id": "95a08e04"
      },
      "source": [
        "- modified from [Scikit learn's implementation](https://github.com/scikit-learn/scikit-learn/blob/15a949460dbf19e5e196b8ef48f9712b72a3b3c3/sklearn/utils/extmath.py#L246)"
      ],
      "id": "95a08e04"
    },
    {
      "cell_type": "code",
      "metadata": {
        "id": "8f6d7e8b"
      },
      "source": [
        "SVD = namedtuple(\"SVD\", \"U, S, V\")\n",
        "\n",
        "def randomized_range_finder(M, *, size, n_iter):\n",
        "    Q = torch.randn(M.shape[1], size, device=M.device)\n",
        "    for i in range(n_iter):\n",
        "        Q = M.transpose(-1, -2) @ (M @ Q)\n",
        "    Q, _ = torch.linalg.qr(M @ Q)\n",
        "    return Q\n",
        "\n",
        "def randomized_svd(M, n_components, *, n_oversamples=10):\n",
        "    n_random = n_components + n_oversamples\n",
        "    n_samples, n_features = M.shape\n",
        "\n",
        "    Q = randomized_range_finder(M, size=n_random, n_iter=7)\n",
        "    Uhat, s, Vt = torch.linalg.svd(Q.transpose(-1, -2) @ M, full_matrices=False)\n",
        "    U = Q @ Uhat\n",
        "    return SVD(U[:, :n_components], s[:n_components], Vt[:n_components, :])\n",
        "\n",
        "def sample_lowrank_matrix(size, max_rank, *, noise=0.0):\n",
        "    A = torch.randn(size, max_rank)\n",
        "    M = A @ A.transpose(-1, -2) + noise * torch.randn(size, size) \n",
        "    return (M / size)"
      ],
      "id": "8f6d7e8b",
      "execution_count": 2,
      "outputs": []
    },
    {
      "cell_type": "code",
      "metadata": {
        "id": "MUApWAqkvLbK"
      },
      "source": [
        "torch.manual_seed(0)\n",
        "M = sample_lowrank_matrix(1000, 3)\n",
        "svd_random = randomized_svd(M, 10)\n",
        "svd_standard = torch.linalg.svd(M)"
      ],
      "id": "MUApWAqkvLbK",
      "execution_count": 3,
      "outputs": []
    },
    {
      "cell_type": "code",
      "metadata": {
        "colab": {
          "base_uri": "https://localhost:8080/",
          "height": 368
        },
        "id": "m9jxEOT2vQX7",
        "outputId": "4c859ce6-0a2c-48b9-d834-3e71e410d5c0"
      },
      "source": [
        "def to_numpy(svd: SVD):\n",
        "    return SVD(*map(lambda t: t.cpu().numpy(), svd))\n",
        "\n",
        "def svd_flip(svd: SVD):\n",
        "    max_abs_cols = torch.argmax(np.abs(svd.U), dim=0)\n",
        "    signs = torch.sign(svd.U[max_abs_cols, range(svd.U.shape[1])])\n",
        "    svd.U[:] *= signs\n",
        "    svd.V[:] *= signs[:, None]\n",
        "    return svd\n",
        "\n",
        "def plot_singular_values(limit_ranks, **kwargs):\n",
        "    kwargs = {name: to_numpy(val) for name, val in kwargs.items()}\n",
        "    data = [\n",
        "        pd.DataFrame(\n",
        "            {\n",
        "                \"Rank\": np.arange(len(svd.S))[:limit_ranks], \n",
        "                \"Value\": svd.S[:limit_ranks], \n",
        "                \"Algorithm\": name,\n",
        "            }\n",
        "        )\n",
        "    for name, svd in kwargs.items()\n",
        "    ]                                                                           \n",
        "    data = pd.concat(data)\n",
        "        \n",
        "    return (\n",
        "        alt.Chart(data)\n",
        "        .mark_point(size=40)\n",
        "        .encode(\n",
        "            x=\"Rank\", \n",
        "            y=alt.Y(\"Value\", axis=alt.Axis(title=\"Singular Value\")),\n",
        "            color=\"Algorithm\", \n",
        "            shape=\"Algorithm\",\n",
        "            tooltip=[\"Algorithm\", \"Value\"],\n",
        "        )\n",
        "    ).interactive()\n",
        "\n",
        "def plot_singular_vector_errors(svd1, svd2, *, limit_ranks):\n",
        "    svd1, svd2 = to_numpy(svd_flip(svd1)), to_numpy(svd_flip(svd2))\n",
        "    errors = np.linalg.norm(svd1.U[:, :limit_ranks] - svd2.U[:, :limit_ranks], axis=0)\n",
        "    data = pd.DataFrame(\n",
        "        {\n",
        "            \"Rank\": np.arange(len(errors)), \"Error\":errors\n",
        "        }\n",
        "    )\n",
        "    return (\n",
        "        alt.Chart(data)\n",
        "        .mark_line(color=\"gray\", strokeDash=[2,2])\n",
        "        .encode(\n",
        "            x=\"Rank\", \n",
        "            y=alt.Y(\"Error\", axis=alt.Axis(title='Error', titleColor=\"gray\")),\n",
        "            tooltip=[\"Error\"],\n",
        "        )\n",
        "    ).interactive()\n",
        "\n",
        "alt.layer(\n",
        "    plot_singular_values(limit_ranks=10, **{\"SVD\": svd_random, \"Randomized SVD\": svd_standard}),\n",
        "    plot_singular_vector_errors(svd_random, svd_standard, limit_ranks=10)\n",
        ").resolve_scale(y=\"independent\")"
      ],
      "id": "m9jxEOT2vQX7",
      "execution_count": 4,
      "outputs": [
        {
          "output_type": "execute_result",
          "data": {
            "text/plain": [
              "alt.LayerChart(...)"
            ],
            "text/html": [
              "\n",
              "<div id=\"altair-viz-a37851f467a3490eb5225c7039d470f5\"></div>\n",
              "<script type=\"text/javascript\">\n",
              "  (function(spec, embedOpt){\n",
              "    let outputDiv = document.currentScript.previousElementSibling;\n",
              "    if (outputDiv.id !== \"altair-viz-a37851f467a3490eb5225c7039d470f5\") {\n",
              "      outputDiv = document.getElementById(\"altair-viz-a37851f467a3490eb5225c7039d470f5\");\n",
              "    }\n",
              "    const paths = {\n",
              "      \"vega\": \"https://cdn.jsdelivr.net/npm//vega@5?noext\",\n",
              "      \"vega-lib\": \"https://cdn.jsdelivr.net/npm//vega-lib?noext\",\n",
              "      \"vega-lite\": \"https://cdn.jsdelivr.net/npm//vega-lite@4.8.1?noext\",\n",
              "      \"vega-embed\": \"https://cdn.jsdelivr.net/npm//vega-embed@6?noext\",\n",
              "    };\n",
              "\n",
              "    function loadScript(lib) {\n",
              "      return new Promise(function(resolve, reject) {\n",
              "        var s = document.createElement('script');\n",
              "        s.src = paths[lib];\n",
              "        s.async = true;\n",
              "        s.onload = () => resolve(paths[lib]);\n",
              "        s.onerror = () => reject(`Error loading script: ${paths[lib]}`);\n",
              "        document.getElementsByTagName(\"head\")[0].appendChild(s);\n",
              "      });\n",
              "    }\n",
              "\n",
              "    function showError(err) {\n",
              "      outputDiv.innerHTML = `<div class=\"error\" style=\"color:red;\">${err}</div>`;\n",
              "      throw err;\n",
              "    }\n",
              "\n",
              "    function displayChart(vegaEmbed) {\n",
              "      vegaEmbed(outputDiv, spec, embedOpt)\n",
              "        .catch(err => showError(`Javascript Error: ${err.message}<br>This usually means there's a typo in your chart specification. See the javascript console for the full traceback.`));\n",
              "    }\n",
              "\n",
              "    if(typeof define === \"function\" && define.amd) {\n",
              "      requirejs.config({paths});\n",
              "      require([\"vega-embed\"], displayChart, err => showError(`Error loading script: ${err.message}`));\n",
              "    } else if (typeof vegaEmbed === \"function\") {\n",
              "      displayChart(vegaEmbed);\n",
              "    } else {\n",
              "      loadScript(\"vega\")\n",
              "        .then(() => loadScript(\"vega-lite\"))\n",
              "        .then(() => loadScript(\"vega-embed\"))\n",
              "        .catch(showError)\n",
              "        .then(() => displayChart(vegaEmbed));\n",
              "    }\n",
              "  })({\"config\": {\"view\": {\"continuousWidth\": 400, \"continuousHeight\": 300}}, \"layer\": [{\"data\": {\"name\": \"data-0b3892bfc4a02e2bf0eb15c9834776c0\"}, \"mark\": {\"type\": \"point\", \"size\": 40}, \"encoding\": {\"color\": {\"type\": \"nominal\", \"field\": \"Algorithm\"}, \"shape\": {\"type\": \"nominal\", \"field\": \"Algorithm\"}, \"tooltip\": [{\"type\": \"nominal\", \"field\": \"Algorithm\"}, {\"type\": \"quantitative\", \"field\": \"Value\"}], \"x\": {\"type\": \"quantitative\", \"field\": \"Rank\"}, \"y\": {\"type\": \"quantitative\", \"axis\": {\"title\": \"Singular Value\"}, \"field\": \"Value\"}}, \"selection\": {\"selector001\": {\"type\": \"interval\", \"bind\": \"scales\", \"encodings\": [\"x\", \"y\"]}}}, {\"data\": {\"name\": \"data-57fd2fc0b1e36aa9a45b3f4d6baa5409\"}, \"mark\": {\"type\": \"line\", \"color\": \"gray\", \"strokeDash\": [2, 2]}, \"encoding\": {\"tooltip\": [{\"type\": \"quantitative\", \"field\": \"Error\"}], \"x\": {\"type\": \"quantitative\", \"field\": \"Rank\"}, \"y\": {\"type\": \"quantitative\", \"axis\": {\"title\": \"Error\", \"titleColor\": \"gray\"}, \"field\": \"Error\"}}, \"selection\": {\"selector002\": {\"type\": \"interval\", \"bind\": \"scales\", \"encodings\": [\"x\", \"y\"]}}}], \"resolve\": {\"scale\": {\"y\": \"independent\"}}, \"$schema\": \"https://vega.github.io/schema/vega-lite/v4.8.1.json\", \"datasets\": {\"data-0b3892bfc4a02e2bf0eb15c9834776c0\": [{\"Rank\": 0, \"Value\": 1.025640845298767, \"Algorithm\": \"SVD\"}, {\"Rank\": 1, \"Value\": 1.0171654224395752, \"Algorithm\": \"SVD\"}, {\"Rank\": 2, \"Value\": 0.972952663898468, \"Algorithm\": \"SVD\"}, {\"Rank\": 3, \"Value\": 2.6114605589100393e-08, \"Algorithm\": \"SVD\"}, {\"Rank\": 4, \"Value\": 2.4847706114883295e-08, \"Algorithm\": \"SVD\"}, {\"Rank\": 5, \"Value\": 2.2840195512685568e-08, \"Algorithm\": \"SVD\"}, {\"Rank\": 6, \"Value\": 2.218734529435551e-08, \"Algorithm\": \"SVD\"}, {\"Rank\": 7, \"Value\": 2.1607185374250548e-08, \"Algorithm\": \"SVD\"}, {\"Rank\": 8, \"Value\": 2.0572954895214934e-08, \"Algorithm\": \"SVD\"}, {\"Rank\": 9, \"Value\": 1.913437763789716e-08, \"Algorithm\": \"SVD\"}, {\"Rank\": 0, \"Value\": 1.0256412029266357, \"Algorithm\": \"Randomized SVD\"}, {\"Rank\": 1, \"Value\": 1.0171655416488647, \"Algorithm\": \"Randomized SVD\"}, {\"Rank\": 2, \"Value\": 0.9729523062705994, \"Algorithm\": \"Randomized SVD\"}, {\"Rank\": 3, \"Value\": 8.281983809865778e-07, \"Algorithm\": \"Randomized SVD\"}, {\"Rank\": 4, \"Value\": 7.616465609316947e-07, \"Algorithm\": \"Randomized SVD\"}, {\"Rank\": 5, \"Value\": 6.213405754351697e-07, \"Algorithm\": \"Randomized SVD\"}, {\"Rank\": 6, \"Value\": 5.896898187529587e-07, \"Algorithm\": \"Randomized SVD\"}, {\"Rank\": 7, \"Value\": 5.804479314974742e-07, \"Algorithm\": \"Randomized SVD\"}, {\"Rank\": 8, \"Value\": 4.841481313633267e-07, \"Algorithm\": \"Randomized SVD\"}, {\"Rank\": 9, \"Value\": 4.684300449753209e-07, \"Algorithm\": \"Randomized SVD\"}], \"data-57fd2fc0b1e36aa9a45b3f4d6baa5409\": [{\"Rank\": 0, \"Error\": 4.529636953520821e-06}, {\"Rank\": 1, \"Error\": 6.880361524963519e-06}, {\"Rank\": 2, \"Error\": 5.644263637805125e-06}, {\"Rank\": 3, \"Error\": 1.3717318773269653}, {\"Rank\": 4, \"Error\": 1.4095851182937622}, {\"Rank\": 5, \"Error\": 1.3556324243545532}, {\"Rank\": 6, \"Error\": 1.4351977109909058}, {\"Rank\": 7, \"Error\": 1.415429711341858}, {\"Rank\": 8, \"Error\": 1.425322413444519}, {\"Rank\": 9, \"Error\": 1.4025763273239136}]}}, {\"mode\": \"vega-lite\"});\n",
              "</script>"
            ]
          },
          "metadata": {
            "tags": []
          },
          "execution_count": 4
        }
      ]
    },
    {
      "cell_type": "code",
      "metadata": {
        "id": "ddf6508d",
        "colab": {
          "base_uri": "https://localhost:8080/",
          "height": 368
        },
        "outputId": "16c9da63-9799-4df8-c785-8b4768fb4c7d"
      },
      "source": [
        "M = sample_lowrank_matrix(1000, 3, noise=10)\n",
        "svd_random = randomized_svd(M, 10)\n",
        "svd_standard = torch.linalg.svd(M)\n",
        "\n",
        "alt.layer(\n",
        "    plot_singular_values(limit_ranks=10, **{\"SVD\": svd_random, \"Randomized SVD\": svd_standard}),\n",
        "    plot_singular_vector_errors(svd_random, svd_standard, limit_ranks=10)\n",
        ").resolve_scale(y=\"independent\")"
      ],
      "id": "ddf6508d",
      "execution_count": 5,
      "outputs": [
        {
          "output_type": "execute_result",
          "data": {
            "text/plain": [
              "alt.LayerChart(...)"
            ],
            "text/html": [
              "\n",
              "<div id=\"altair-viz-4c2e3a9c22bb43689c07eb016880847b\"></div>\n",
              "<script type=\"text/javascript\">\n",
              "  (function(spec, embedOpt){\n",
              "    let outputDiv = document.currentScript.previousElementSibling;\n",
              "    if (outputDiv.id !== \"altair-viz-4c2e3a9c22bb43689c07eb016880847b\") {\n",
              "      outputDiv = document.getElementById(\"altair-viz-4c2e3a9c22bb43689c07eb016880847b\");\n",
              "    }\n",
              "    const paths = {\n",
              "      \"vega\": \"https://cdn.jsdelivr.net/npm//vega@5?noext\",\n",
              "      \"vega-lib\": \"https://cdn.jsdelivr.net/npm//vega-lib?noext\",\n",
              "      \"vega-lite\": \"https://cdn.jsdelivr.net/npm//vega-lite@4.8.1?noext\",\n",
              "      \"vega-embed\": \"https://cdn.jsdelivr.net/npm//vega-embed@6?noext\",\n",
              "    };\n",
              "\n",
              "    function loadScript(lib) {\n",
              "      return new Promise(function(resolve, reject) {\n",
              "        var s = document.createElement('script');\n",
              "        s.src = paths[lib];\n",
              "        s.async = true;\n",
              "        s.onload = () => resolve(paths[lib]);\n",
              "        s.onerror = () => reject(`Error loading script: ${paths[lib]}`);\n",
              "        document.getElementsByTagName(\"head\")[0].appendChild(s);\n",
              "      });\n",
              "    }\n",
              "\n",
              "    function showError(err) {\n",
              "      outputDiv.innerHTML = `<div class=\"error\" style=\"color:red;\">${err}</div>`;\n",
              "      throw err;\n",
              "    }\n",
              "\n",
              "    function displayChart(vegaEmbed) {\n",
              "      vegaEmbed(outputDiv, spec, embedOpt)\n",
              "        .catch(err => showError(`Javascript Error: ${err.message}<br>This usually means there's a typo in your chart specification. See the javascript console for the full traceback.`));\n",
              "    }\n",
              "\n",
              "    if(typeof define === \"function\" && define.amd) {\n",
              "      requirejs.config({paths});\n",
              "      require([\"vega-embed\"], displayChart, err => showError(`Error loading script: ${err.message}`));\n",
              "    } else if (typeof vegaEmbed === \"function\") {\n",
              "      displayChart(vegaEmbed);\n",
              "    } else {\n",
              "      loadScript(\"vega\")\n",
              "        .then(() => loadScript(\"vega-lite\"))\n",
              "        .then(() => loadScript(\"vega-embed\"))\n",
              "        .catch(showError)\n",
              "        .then(() => displayChart(vegaEmbed));\n",
              "    }\n",
              "  })({\"config\": {\"view\": {\"continuousWidth\": 400, \"continuousHeight\": 300}}, \"layer\": [{\"data\": {\"name\": \"data-7bd92bed013207a6b11b88a87b4f30a7\"}, \"mark\": {\"type\": \"point\", \"size\": 40}, \"encoding\": {\"color\": {\"type\": \"nominal\", \"field\": \"Algorithm\"}, \"shape\": {\"type\": \"nominal\", \"field\": \"Algorithm\"}, \"tooltip\": [{\"type\": \"nominal\", \"field\": \"Algorithm\"}, {\"type\": \"quantitative\", \"field\": \"Value\"}], \"x\": {\"type\": \"quantitative\", \"field\": \"Rank\"}, \"y\": {\"type\": \"quantitative\", \"axis\": {\"title\": \"Singular Value\"}, \"field\": \"Value\"}}, \"selection\": {\"selector003\": {\"type\": \"interval\", \"bind\": \"scales\", \"encodings\": [\"x\", \"y\"]}}}, {\"data\": {\"name\": \"data-0e322d22ad442de23374fee52e3dedc0\"}, \"mark\": {\"type\": \"line\", \"color\": \"gray\", \"strokeDash\": [2, 2]}, \"encoding\": {\"tooltip\": [{\"type\": \"quantitative\", \"field\": \"Error\"}], \"x\": {\"type\": \"quantitative\", \"field\": \"Rank\"}, \"y\": {\"type\": \"quantitative\", \"axis\": {\"title\": \"Error\", \"titleColor\": \"gray\"}, \"field\": \"Error\"}}, \"selection\": {\"selector004\": {\"type\": \"interval\", \"bind\": \"scales\", \"encodings\": [\"x\", \"y\"]}}}], \"resolve\": {\"scale\": {\"y\": \"independent\"}}, \"$schema\": \"https://vega.github.io/schema/vega-lite/v4.8.1.json\", \"datasets\": {\"data-7bd92bed013207a6b11b88a87b4f30a7\": [{\"Rank\": 0, \"Value\": 1.1777887344360352, \"Algorithm\": \"SVD\"}, {\"Rank\": 1, \"Value\": 1.102333664894104, \"Algorithm\": \"SVD\"}, {\"Rank\": 2, \"Value\": 1.0349652767181396, \"Algorithm\": \"SVD\"}, {\"Rank\": 3, \"Value\": 0.6206364035606384, \"Algorithm\": \"SVD\"}, {\"Rank\": 4, \"Value\": 0.6181489825248718, \"Algorithm\": \"SVD\"}, {\"Rank\": 5, \"Value\": 0.609818696975708, \"Algorithm\": \"SVD\"}, {\"Rank\": 6, \"Value\": 0.6038177013397217, \"Algorithm\": \"SVD\"}, {\"Rank\": 7, \"Value\": 0.6026841998100281, \"Algorithm\": \"SVD\"}, {\"Rank\": 8, \"Value\": 0.5995891690254211, \"Algorithm\": \"SVD\"}, {\"Rank\": 9, \"Value\": 0.5968639254570007, \"Algorithm\": \"SVD\"}, {\"Rank\": 0, \"Value\": 1.177788257598877, \"Algorithm\": \"Randomized SVD\"}, {\"Rank\": 1, \"Value\": 1.1023333072662354, \"Algorithm\": \"Randomized SVD\"}, {\"Rank\": 2, \"Value\": 1.0349653959274292, \"Algorithm\": \"Randomized SVD\"}, {\"Rank\": 3, \"Value\": 0.6264458298683167, \"Algorithm\": \"Randomized SVD\"}, {\"Rank\": 4, \"Value\": 0.6243263483047485, \"Algorithm\": \"Randomized SVD\"}, {\"Rank\": 5, \"Value\": 0.6206650733947754, \"Algorithm\": \"Randomized SVD\"}, {\"Rank\": 6, \"Value\": 0.6175390481948853, \"Algorithm\": \"Randomized SVD\"}, {\"Rank\": 7, \"Value\": 0.614533007144928, \"Algorithm\": \"Randomized SVD\"}, {\"Rank\": 8, \"Value\": 0.6120784878730774, \"Algorithm\": \"Randomized SVD\"}, {\"Rank\": 9, \"Value\": 0.610592782497406, \"Algorithm\": \"Randomized SVD\"}], \"data-0e322d22ad442de23374fee52e3dedc0\": [{\"Rank\": 0, \"Error\": 4.3323518184479326e-05}, {\"Rank\": 1, \"Error\": 0.00012112467084079981}, {\"Rank\": 2, \"Error\": 0.00025254543288610876}, {\"Rank\": 3, \"Error\": 1.9082651138305664}, {\"Rank\": 4, \"Error\": 1.8406811952590942}, {\"Rank\": 5, \"Error\": 0.8108303546905518}, {\"Rank\": 6, \"Error\": 1.3978490829467773}, {\"Rank\": 7, \"Error\": 1.635074257850647}, {\"Rank\": 8, \"Error\": 1.1759059429168701}, {\"Rank\": 9, \"Error\": 1.1571165323257446}]}}, {\"mode\": \"vega-lite\"});\n",
              "</script>"
            ]
          },
          "metadata": {
            "tags": []
          },
          "execution_count": 5
        }
      ]
    },
    {
      "cell_type": "code",
      "metadata": {
        "colab": {
          "base_uri": "https://localhost:8080/"
        },
        "id": "lZO-uajlCVsE",
        "outputId": "c7a26bf3-a3e3-4d82-b25e-731282913474"
      },
      "source": [
        "matrix_sizes = [2**8, 2**9, 2**10, 2**11, 2**12]\n",
        "n_components=2\n",
        "\n",
        "result_cpu = []\n",
        "for size in matrix_sizes:\n",
        "    M = sample_lowrank_matrix(size, 3)\n",
        "    time = %timeit -o randomized_svd(M, n_components=n_components)\n",
        "    result_cpu.append(time.best)\n",
        "\n",
        "result_gpu = []\n",
        "for size in matrix_sizes:\n",
        "    M = sample_lowrank_matrix(size, 3)\n",
        "    time = %timeit -o randomized_svd(M.cuda(), n_components=n_components)\n",
        "    result_gpu.append(time.best)\n",
        "\n",
        "result_np = []\n",
        "for size in matrix_sizes:\n",
        "    M = sample_lowrank_matrix(size, 3)\n",
        "    time = %timeit -o torch.svd(M)\n",
        "    result_np.append(time.best)\n",
        "\n",
        "result_scipy = []\n",
        "for size in matrix_sizes:\n",
        "    M = sample_lowrank_matrix(size, 3).numpy()\n",
        "    time = %timeit -o svds(M, k=n_components)\n",
        "    result_scipy.append(time.best)\n",
        "\n",
        "df = pd.DataFrame({\n",
        "    \"sizes\": matrix_sizes, \n",
        "    \"cpu\": result_cpu,\n",
        "    \"gpu\": result_gpu,\n",
        "    \"full\": result_np,\n",
        "    \"scipy\": result_scipy,\n",
        "    \"k\": n_components\n",
        "})\n",
        "df = df.melt(id_vars=[\"sizes\", \"k\"], value_vars=[\"cpu\", \"gpu\", \"full\", \"scipy\"])\n",
        "df.rename(columns={\"value\": \"runtime\", \"variable\": \"algorithm\"}, inplace=True);"
      ],
      "id": "lZO-uajlCVsE",
      "execution_count": 6,
      "outputs": [
        {
          "output_type": "stream",
          "text": [
            "1000 loops, best of 5: 849 µs per loop\n",
            "100 loops, best of 5: 2.76 ms per loop\n",
            "100 loops, best of 5: 10.5 ms per loop\n",
            "10 loops, best of 5: 43.5 ms per loop\n",
            "1 loop, best of 5: 247 ms per loop\n",
            "The slowest run took 554.72 times longer than the fastest. This could mean that an intermediate result is being cached.\n",
            "1 loop, best of 5: 6.06 ms per loop\n",
            "100 loops, best of 5: 6.46 ms per loop\n",
            "100 loops, best of 5: 7.08 ms per loop\n",
            "100 loops, best of 5: 10.7 ms per loop\n",
            "10 loops, best of 5: 26.9 ms per loop\n",
            "100 loops, best of 5: 4.91 ms per loop\n",
            "10 loops, best of 5: 29.1 ms per loop\n",
            "1 loop, best of 5: 275 ms per loop\n",
            "1 loop, best of 5: 2.12 s per loop\n",
            "1 loop, best of 5: 19.5 s per loop\n",
            "1000 loops, best of 5: 1.7 ms per loop\n",
            "100 loops, best of 5: 3.52 ms per loop\n",
            "100 loops, best of 5: 12.1 ms per loop\n",
            "10 loops, best of 5: 45.1 ms per loop\n",
            "1 loop, best of 5: 253 ms per loop\n"
          ],
          "name": "stdout"
        }
      ]
    },
    {
      "cell_type": "code",
      "metadata": {
        "colab": {
          "base_uri": "https://localhost:8080/",
          "height": 368
        },
        "id": "lIGyRuUK32LW",
        "outputId": "f2b2360c-ab93-47be-8977-d0a2c3442445"
      },
      "source": [
        "(\n",
        "    alt.Chart(df)\n",
        "    .mark_point(size=40)\n",
        "    .encode(\n",
        "        x=alt.X(\"sizes\", scale=alt.Scale(type='sqrt', zero=False), axis=alt.Axis(title=\"Matrix Size\")),\n",
        "        y=alt.Y(\"runtime\", scale=alt.Scale(domain=(0, 0.3)), axis=alt.Axis(title=\"Runtime [s]\")),\n",
        "        color=\"algorithm\", \n",
        "        shape=\"algorithm\",\n",
        "    )\n",
        ").interactive()"
      ],
      "id": "lIGyRuUK32LW",
      "execution_count": 7,
      "outputs": [
        {
          "output_type": "execute_result",
          "data": {
            "text/plain": [
              "alt.Chart(...)"
            ],
            "text/html": [
              "\n",
              "<div id=\"altair-viz-16fc56ec729f4562ae87d2e48d3ffe6e\"></div>\n",
              "<script type=\"text/javascript\">\n",
              "  (function(spec, embedOpt){\n",
              "    let outputDiv = document.currentScript.previousElementSibling;\n",
              "    if (outputDiv.id !== \"altair-viz-16fc56ec729f4562ae87d2e48d3ffe6e\") {\n",
              "      outputDiv = document.getElementById(\"altair-viz-16fc56ec729f4562ae87d2e48d3ffe6e\");\n",
              "    }\n",
              "    const paths = {\n",
              "      \"vega\": \"https://cdn.jsdelivr.net/npm//vega@5?noext\",\n",
              "      \"vega-lib\": \"https://cdn.jsdelivr.net/npm//vega-lib?noext\",\n",
              "      \"vega-lite\": \"https://cdn.jsdelivr.net/npm//vega-lite@4.8.1?noext\",\n",
              "      \"vega-embed\": \"https://cdn.jsdelivr.net/npm//vega-embed@6?noext\",\n",
              "    };\n",
              "\n",
              "    function loadScript(lib) {\n",
              "      return new Promise(function(resolve, reject) {\n",
              "        var s = document.createElement('script');\n",
              "        s.src = paths[lib];\n",
              "        s.async = true;\n",
              "        s.onload = () => resolve(paths[lib]);\n",
              "        s.onerror = () => reject(`Error loading script: ${paths[lib]}`);\n",
              "        document.getElementsByTagName(\"head\")[0].appendChild(s);\n",
              "      });\n",
              "    }\n",
              "\n",
              "    function showError(err) {\n",
              "      outputDiv.innerHTML = `<div class=\"error\" style=\"color:red;\">${err}</div>`;\n",
              "      throw err;\n",
              "    }\n",
              "\n",
              "    function displayChart(vegaEmbed) {\n",
              "      vegaEmbed(outputDiv, spec, embedOpt)\n",
              "        .catch(err => showError(`Javascript Error: ${err.message}<br>This usually means there's a typo in your chart specification. See the javascript console for the full traceback.`));\n",
              "    }\n",
              "\n",
              "    if(typeof define === \"function\" && define.amd) {\n",
              "      requirejs.config({paths});\n",
              "      require([\"vega-embed\"], displayChart, err => showError(`Error loading script: ${err.message}`));\n",
              "    } else if (typeof vegaEmbed === \"function\") {\n",
              "      displayChart(vegaEmbed);\n",
              "    } else {\n",
              "      loadScript(\"vega\")\n",
              "        .then(() => loadScript(\"vega-lite\"))\n",
              "        .then(() => loadScript(\"vega-embed\"))\n",
              "        .catch(showError)\n",
              "        .then(() => displayChart(vegaEmbed));\n",
              "    }\n",
              "  })({\"config\": {\"view\": {\"continuousWidth\": 400, \"continuousHeight\": 300}}, \"data\": {\"name\": \"data-b1a75078f68fcd3b29964161b45f3abc\"}, \"mark\": {\"type\": \"point\", \"size\": 40}, \"encoding\": {\"color\": {\"type\": \"nominal\", \"field\": \"algorithm\"}, \"shape\": {\"type\": \"nominal\", \"field\": \"algorithm\"}, \"x\": {\"type\": \"quantitative\", \"axis\": {\"title\": \"Matrix Size\"}, \"field\": \"sizes\", \"scale\": {\"type\": \"sqrt\", \"zero\": false}}, \"y\": {\"type\": \"quantitative\", \"axis\": {\"title\": \"Runtime [s]\"}, \"field\": \"runtime\", \"scale\": {\"domain\": [0, 0.3]}}}, \"selection\": {\"selector005\": {\"type\": \"interval\", \"bind\": \"scales\", \"encodings\": [\"x\", \"y\"]}}, \"$schema\": \"https://vega.github.io/schema/vega-lite/v4.8.1.json\", \"datasets\": {\"data-b1a75078f68fcd3b29964161b45f3abc\": [{\"sizes\": 256, \"k\": 2, \"algorithm\": \"cpu\", \"runtime\": 0.0008491333460001442}, {\"sizes\": 512, \"k\": 2, \"algorithm\": \"cpu\", \"runtime\": 0.0027593833299988544}, {\"sizes\": 1024, \"k\": 2, \"algorithm\": \"cpu\", \"runtime\": 0.010541449039999406}, {\"sizes\": 2048, \"k\": 2, \"algorithm\": \"cpu\", \"runtime\": 0.04353001639999547}, {\"sizes\": 4096, \"k\": 2, \"algorithm\": \"cpu\", \"runtime\": 0.24735253399990142}, {\"sizes\": 256, \"k\": 2, \"algorithm\": \"gpu\", \"runtime\": 0.0060571899998649315}, {\"sizes\": 512, \"k\": 2, \"algorithm\": \"gpu\", \"runtime\": 0.006462520130000939}, {\"sizes\": 1024, \"k\": 2, \"algorithm\": \"gpu\", \"runtime\": 0.0070751369899994644}, {\"sizes\": 2048, \"k\": 2, \"algorithm\": \"gpu\", \"runtime\": 0.01069825710000032}, {\"sizes\": 4096, \"k\": 2, \"algorithm\": \"gpu\", \"runtime\": 0.026942813599998772}, {\"sizes\": 256, \"k\": 2, \"algorithm\": \"full\", \"runtime\": 0.004909760550001465}, {\"sizes\": 512, \"k\": 2, \"algorithm\": \"full\", \"runtime\": 0.029101631999992605}, {\"sizes\": 1024, \"k\": 2, \"algorithm\": \"full\", \"runtime\": 0.2747140659998877}, {\"sizes\": 2048, \"k\": 2, \"algorithm\": \"full\", \"runtime\": 2.115211344000045}, {\"sizes\": 4096, \"k\": 2, \"algorithm\": \"full\", \"runtime\": 19.51690108799994}, {\"sizes\": 256, \"k\": 2, \"algorithm\": \"scipy\", \"runtime\": 0.0016978629679999812}, {\"sizes\": 512, \"k\": 2, \"algorithm\": \"scipy\", \"runtime\": 0.003517346180001368}, {\"sizes\": 1024, \"k\": 2, \"algorithm\": \"scipy\", \"runtime\": 0.012119854989998657}, {\"sizes\": 2048, \"k\": 2, \"algorithm\": \"scipy\", \"runtime\": 0.04514180950000082}, {\"sizes\": 4096, \"k\": 2, \"algorithm\": \"scipy\", \"runtime\": 0.25298080000015943}]}}, {\"mode\": \"vega-lite\"});\n",
              "</script>"
            ]
          },
          "metadata": {
            "tags": []
          },
          "execution_count": 7
        }
      ]
    },
    {
      "cell_type": "code",
      "metadata": {
        "id": "Iwsw4QGs52By"
      },
      "source": [
        ""
      ],
      "id": "Iwsw4QGs52By",
      "execution_count": 7,
      "outputs": []
    }
  ]
}