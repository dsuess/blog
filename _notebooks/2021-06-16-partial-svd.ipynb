{
 "cells": [
  {
   "cell_type": "markdown",
   "id": "40c7db44",
   "metadata": {},
   "source": [
    "# Randomized Truncated SVD\n",
    "\n",
    "- subtitle: My favorite algorithm and why you should have one too.\n",
    "- badges: true\n",
    "- categories: [fastpages, jupyter]"
   ]
  },
  {
   "cell_type": "code",
   "execution_count": 1,
   "id": "46d11bb7",
   "metadata": {},
   "outputs": [
    {
     "name": "stdout",
     "output_type": "stream",
     "text": [
      "Requirement already satisfied: altair in /Users/dsuess/Code/blog/.venv/lib/python3.8/site-packages (4.1.0)\n",
      "Requirement already satisfied: numpy in /Users/dsuess/Code/blog/.venv/lib/python3.8/site-packages (from altair) (1.20.3)\n",
      "Requirement already satisfied: pandas>=0.18 in /Users/dsuess/Code/blog/.venv/lib/python3.8/site-packages (from altair) (1.2.4)\n",
      "Requirement already satisfied: jinja2 in /Users/dsuess/Code/blog/.venv/lib/python3.8/site-packages (from altair) (3.0.0)\n",
      "Requirement already satisfied: entrypoints in /Users/dsuess/Code/blog/.venv/lib/python3.8/site-packages (from altair) (0.3)\n",
      "Requirement already satisfied: toolz in /Users/dsuess/Code/blog/.venv/lib/python3.8/site-packages (from altair) (0.11.1)\n",
      "Requirement already satisfied: jsonschema in /Users/dsuess/Code/blog/.venv/lib/python3.8/site-packages (from altair) (3.2.0)\n",
      "Requirement already satisfied: pytz>=2017.3 in /Users/dsuess/Code/blog/.venv/lib/python3.8/site-packages (from pandas>=0.18->altair) (2021.1)\n",
      "Requirement already satisfied: python-dateutil>=2.7.3 in /Users/dsuess/Code/blog/.venv/lib/python3.8/site-packages (from pandas>=0.18->altair) (2.8.1)\n",
      "Requirement already satisfied: six>=1.5 in /Users/dsuess/Code/blog/.venv/lib/python3.8/site-packages (from python-dateutil>=2.7.3->pandas>=0.18->altair) (1.16.0)\n",
      "Requirement already satisfied: MarkupSafe>=2.0.0rc2 in /Users/dsuess/Code/blog/.venv/lib/python3.8/site-packages (from jinja2->altair) (2.0.0)\n",
      "Requirement already satisfied: attrs>=17.4.0 in /Users/dsuess/Code/blog/.venv/lib/python3.8/site-packages (from jsonschema->altair) (21.2.0)\n",
      "Requirement already satisfied: setuptools in /Users/dsuess/Code/blog/.venv/lib/python3.8/site-packages (from jsonschema->altair) (49.2.1)\n",
      "Requirement already satisfied: pyrsistent>=0.14.0 in /Users/dsuess/Code/blog/.venv/lib/python3.8/site-packages (from jsonschema->altair) (0.17.3)\n"
     ]
    }
   ],
   "source": [
    "!pip install altair\n",
    "\n",
    "import numpy as np\n",
    "import altair as alt\n",
    "import pandas as pd\n",
    "\n",
    "from collections import namedtuple"
   ]
  },
  {
   "cell_type": "markdown",
   "id": "95a08e04",
   "metadata": {},
   "source": [
    "- modified from [Scikit learn's implementation](https://github.com/scikit-learn/scikit-learn/blob/15a949460dbf19e5e196b8ef48f9712b72a3b3c3/sklearn/utils/extmath.py#L246)"
   ]
  },
  {
   "cell_type": "code",
   "execution_count": 2,
   "id": "8f6d7e8b",
   "metadata": {},
   "outputs": [],
   "source": [
    "SVD = namedtuple(\"SVD\", \"U, s, Vt\")\n",
    "\n",
    "def svd_flip(svd: SVD):\n",
    "    max_abs_cols = np.argmax(np.abs(svd.U), axis=0)\n",
    "    signs = np.sign(svd.U[max_abs_cols, range(svd.U.shape[1])])\n",
    "    svd.U[:] *= signs\n",
    "    svd.Vt[:] *= signs[:, np.newaxis]\n",
    "    return svd\n",
    "\n",
    "def randomized_range_finder(M, *, size, n_iter, rgen):\n",
    "    Q = rgen.normal(size=(M.shape[1], size))\n",
    "    for i in range(n_iter):\n",
    "        Q = M.T @ (M @ Q)\n",
    "    Q, _ = np.linalg.qr(M @ Q)\n",
    "    return Q\n",
    "\n",
    "def randomized_svd(M, n_components, *, rgen, n_oversamples=10):\n",
    "    n_random = n_components + n_oversamples\n",
    "    n_samples, n_features = M.shape\n",
    "\n",
    "    Q = randomized_range_finder(M, size=n_random, n_iter=7, rgen=rgen)\n",
    "    Uhat, s, Vt = np.linalg.svd(Q.T @ M)\n",
    "    U = Q @ Uhat\n",
    "    return SVD(U[:, :n_components], s[:n_components], Vt[:n_components, :])"
   ]
  },
  {
   "cell_type": "code",
   "execution_count": 3,
   "id": "565cd962",
   "metadata": {},
   "outputs": [],
   "source": [
    "def sample_lowrank_matrix(size, max_rank, *, rgen, noise=0.0):\n",
    "    A = rgen.normal(size=(size, max_rank))\n",
    "    M = A @ A.T + noise * rgen.normal(size=(size, size)) \n",
    "    return M / size"
   ]
  },
  {
   "cell_type": "code",
   "execution_count": 4,
   "id": "df135d53",
   "metadata": {},
   "outputs": [],
   "source": [
    "rgen = np.random.RandomState(1234)\n",
    "M = sample_lowrank_matrix(1000, 3, rgen=rgen)\n",
    "svd_random = randomized_svd(M, 10, rgen=rgen)\n",
    "svd_standard = SVD(*np.linalg.svd(M))"
   ]
  },
  {
   "cell_type": "code",
   "execution_count": 5,
   "id": "e2176f2e",
   "metadata": {},
   "outputs": [
    {
     "data": {
      "text/html": [
       "\n",
       "<div id=\"altair-viz-f7381f34ae3546edb92e3de7191c3fee\"></div>\n",
       "<script type=\"text/javascript\">\n",
       "  (function(spec, embedOpt){\n",
       "    let outputDiv = document.currentScript.previousElementSibling;\n",
       "    if (outputDiv.id !== \"altair-viz-f7381f34ae3546edb92e3de7191c3fee\") {\n",
       "      outputDiv = document.getElementById(\"altair-viz-f7381f34ae3546edb92e3de7191c3fee\");\n",
       "    }\n",
       "    const paths = {\n",
       "      \"vega\": \"https://cdn.jsdelivr.net/npm//vega@5?noext\",\n",
       "      \"vega-lib\": \"https://cdn.jsdelivr.net/npm//vega-lib?noext\",\n",
       "      \"vega-lite\": \"https://cdn.jsdelivr.net/npm//vega-lite@4.8.1?noext\",\n",
       "      \"vega-embed\": \"https://cdn.jsdelivr.net/npm//vega-embed@6?noext\",\n",
       "    };\n",
       "\n",
       "    function loadScript(lib) {\n",
       "      return new Promise(function(resolve, reject) {\n",
       "        var s = document.createElement('script');\n",
       "        s.src = paths[lib];\n",
       "        s.async = true;\n",
       "        s.onload = () => resolve(paths[lib]);\n",
       "        s.onerror = () => reject(`Error loading script: ${paths[lib]}`);\n",
       "        document.getElementsByTagName(\"head\")[0].appendChild(s);\n",
       "      });\n",
       "    }\n",
       "\n",
       "    function showError(err) {\n",
       "      outputDiv.innerHTML = `<div class=\"error\" style=\"color:red;\">${err}</div>`;\n",
       "      throw err;\n",
       "    }\n",
       "\n",
       "    function displayChart(vegaEmbed) {\n",
       "      vegaEmbed(outputDiv, spec, embedOpt)\n",
       "        .catch(err => showError(`Javascript Error: ${err.message}<br>This usually means there's a typo in your chart specification. See the javascript console for the full traceback.`));\n",
       "    }\n",
       "\n",
       "    if(typeof define === \"function\" && define.amd) {\n",
       "      requirejs.config({paths});\n",
       "      require([\"vega-embed\"], displayChart, err => showError(`Error loading script: ${err.message}`));\n",
       "    } else if (typeof vegaEmbed === \"function\") {\n",
       "      displayChart(vegaEmbed);\n",
       "    } else {\n",
       "      loadScript(\"vega\")\n",
       "        .then(() => loadScript(\"vega-lite\"))\n",
       "        .then(() => loadScript(\"vega-embed\"))\n",
       "        .catch(showError)\n",
       "        .then(() => displayChart(vegaEmbed));\n",
       "    }\n",
       "  })({\"config\": {\"view\": {\"continuousWidth\": 400, \"continuousHeight\": 300}}, \"layer\": [{\"data\": {\"name\": \"data-db84d95790a017976df141af5c7cb34b\"}, \"mark\": {\"type\": \"point\", \"size\": 40}, \"encoding\": {\"color\": {\"type\": \"nominal\", \"field\": \"Algorithm\"}, \"shape\": {\"type\": \"nominal\", \"field\": \"Algorithm\"}, \"tooltip\": [{\"type\": \"nominal\", \"field\": \"Algorithm\"}, {\"type\": \"quantitative\", \"field\": \"Value\"}], \"x\": {\"type\": \"quantitative\", \"field\": \"Rank\"}, \"y\": {\"type\": \"quantitative\", \"axis\": {\"title\": \"Singular Value\"}, \"field\": \"Value\"}}, \"selection\": {\"selector001\": {\"type\": \"interval\", \"bind\": \"scales\", \"encodings\": [\"x\", \"y\"]}}}, {\"data\": {\"name\": \"data-8e06cd5ff40fabae5bc10a7383d6bad1\"}, \"mark\": {\"type\": \"line\", \"color\": \"gray\", \"strokeDash\": [2, 2]}, \"encoding\": {\"tooltip\": [{\"type\": \"quantitative\", \"field\": \"Error\"}], \"x\": {\"type\": \"quantitative\", \"field\": \"Rank\"}, \"y\": {\"type\": \"quantitative\", \"axis\": {\"title\": \"Error\", \"titleColor\": \"gray\"}, \"field\": \"Error\"}}, \"selection\": {\"selector002\": {\"type\": \"interval\", \"bind\": \"scales\", \"encodings\": [\"x\", \"y\"]}}}], \"resolve\": {\"scale\": {\"y\": \"independent\"}}, \"$schema\": \"https://vega.github.io/schema/vega-lite/v4.8.1.json\", \"datasets\": {\"data-db84d95790a017976df141af5c7cb34b\": [{\"Rank\": 0, \"Value\": 1.0498353820692476, \"Algorithm\": \"SVD\"}, {\"Rank\": 1, \"Value\": 0.9434084362733075, \"Algorithm\": \"SVD\"}, {\"Rank\": 2, \"Value\": 0.9231170522756923, \"Algorithm\": \"SVD\"}, {\"Rank\": 3, \"Value\": 4.524434405283074e-17, \"Algorithm\": \"SVD\"}, {\"Rank\": 4, \"Value\": 4.171330550700503e-17, \"Algorithm\": \"SVD\"}, {\"Rank\": 5, \"Value\": 4.0823966854369356e-17, \"Algorithm\": \"SVD\"}, {\"Rank\": 6, \"Value\": 3.961592613104923e-17, \"Algorithm\": \"SVD\"}, {\"Rank\": 7, \"Value\": 3.737856911389297e-17, \"Algorithm\": \"SVD\"}, {\"Rank\": 8, \"Value\": 3.5388296059070084e-17, \"Algorithm\": \"SVD\"}, {\"Rank\": 9, \"Value\": 3.3485936994324186e-17, \"Algorithm\": \"SVD\"}, {\"Rank\": 0, \"Value\": 1.049835382069248, \"Algorithm\": \"Randomized SVD\"}, {\"Rank\": 1, \"Value\": 0.9434084362733073, \"Algorithm\": \"Randomized SVD\"}, {\"Rank\": 2, \"Value\": 0.923117052275692, \"Algorithm\": \"Randomized SVD\"}, {\"Rank\": 3, \"Value\": 1.3180477720809932e-15, \"Algorithm\": \"Randomized SVD\"}, {\"Rank\": 4, \"Value\": 1.040185255529669e-15, \"Algorithm\": \"Randomized SVD\"}, {\"Rank\": 5, \"Value\": 1.0323137142280398e-15, \"Algorithm\": \"Randomized SVD\"}, {\"Rank\": 6, \"Value\": 9.32441130591542e-16, \"Algorithm\": \"Randomized SVD\"}, {\"Rank\": 7, \"Value\": 7.732848479142406e-16, \"Algorithm\": \"Randomized SVD\"}, {\"Rank\": 8, \"Value\": 6.658175430686287e-16, \"Algorithm\": \"Randomized SVD\"}, {\"Rank\": 9, \"Value\": 6.638745904347225e-16, \"Algorithm\": \"Randomized SVD\"}], \"data-8e06cd5ff40fabae5bc10a7383d6bad1\": [{\"Rank\": 0, \"Error\": 2.863213676937678e-15}, {\"Rank\": 1, \"Error\": 3.312352196787411e-14}, {\"Rank\": 2, \"Error\": 3.315487656746311e-14}, {\"Rank\": 3, \"Error\": 1.3030940967840268}, {\"Rank\": 4, \"Error\": 1.4398787388576815}, {\"Rank\": 5, \"Error\": 1.4951006201428476}, {\"Rank\": 6, \"Error\": 1.4158652345746237}, {\"Rank\": 7, \"Error\": 1.3394485350560206}, {\"Rank\": 8, \"Error\": 1.2896843774195899}, {\"Rank\": 9, \"Error\": 1.4476820066059617}]}}, {\"mode\": \"vega-lite\"});\n",
       "</script>"
      ],
      "text/plain": [
       "alt.LayerChart(...)"
      ]
     },
     "execution_count": 5,
     "metadata": {},
     "output_type": "execute_result"
    }
   ],
   "source": [
    "def plot_singular_values(limit_ranks, **kwargs):\n",
    "    data = [\n",
    "        pd.DataFrame(\n",
    "            {\n",
    "                \"Rank\": np.arange(len(svd.s))[:limit_ranks], \n",
    "                \"Value\": svd.s[:limit_ranks], \n",
    "                \"Algorithm\": name,\n",
    "            }\n",
    "        )\n",
    "    for name, svd in kwargs.items()\n",
    "    ]                                                                           \n",
    "    data = pd.concat(data)\n",
    "        \n",
    "    return (\n",
    "        alt.Chart(data)\n",
    "        .mark_point(size=40)\n",
    "        .encode(\n",
    "            x=\"Rank\", \n",
    "            y=alt.Y(\"Value\", axis=alt.Axis(title=\"Singular Value\")),\n",
    "            color=\"Algorithm\", \n",
    "            shape=\"Algorithm\",\n",
    "            tooltip=[\"Algorithm\", \"Value\"],\n",
    "        )\n",
    "    ).interactive()\n",
    "\n",
    "def plot_singular_vector_errors(svd1, svd2, *, limit_ranks):\n",
    "    svd1, svd2 = svd_flip(svd1), svd_flip(svd2)\n",
    "    errors = np.linalg.norm(svd1.U[:, :limit_ranks] - svd2.U[:, :limit_ranks], axis=0)\n",
    "    data = pd.DataFrame(\n",
    "        {\n",
    "            \"Rank\": np.arange(len(errors)), \"Error\":errors\n",
    "        }\n",
    "    )\n",
    "    return (\n",
    "        alt.Chart(data)\n",
    "        .mark_line(color=\"gray\", strokeDash=[2,2])\n",
    "        .encode(\n",
    "            x=\"Rank\", \n",
    "            y=alt.Y(\"Error\", axis=alt.Axis(title='Error', titleColor=\"gray\")),\n",
    "            tooltip=[\"Error\"],\n",
    "        )\n",
    "    ).interactive()\n",
    "\n",
    "alt.layer(\n",
    "    plot_singular_values(limit_ranks=10, **{\"SVD\": svd_random, \"Randomized SVD\": svd_standard}),\n",
    "    plot_singular_vector_errors(svd_random, svd_standard, limit_ranks=10)\n",
    ").resolve_scale(y=\"independent\")"
   ]
  },
  {
   "cell_type": "code",
   "execution_count": 6,
   "id": "ddf6508d",
   "metadata": {},
   "outputs": [],
   "source": [
    "M = sample_lowrank_matrix(1000, 3, rgen=rgen, noise=10)\n",
    "svd_random = randomized_svd(M, 10, rgen=rgen)\n",
    "svd_standard = SVD(*np.linalg.svd(M))"
   ]
  },
  {
   "cell_type": "code",
   "execution_count": 8,
   "id": "accef5be",
   "metadata": {},
   "outputs": [
    {
     "data": {
      "text/html": [
       "\n",
       "<div id=\"altair-viz-560d1076b8814d03ac48bdda62f86b0d\"></div>\n",
       "<script type=\"text/javascript\">\n",
       "  (function(spec, embedOpt){\n",
       "    let outputDiv = document.currentScript.previousElementSibling;\n",
       "    if (outputDiv.id !== \"altair-viz-560d1076b8814d03ac48bdda62f86b0d\") {\n",
       "      outputDiv = document.getElementById(\"altair-viz-560d1076b8814d03ac48bdda62f86b0d\");\n",
       "    }\n",
       "    const paths = {\n",
       "      \"vega\": \"https://cdn.jsdelivr.net/npm//vega@5?noext\",\n",
       "      \"vega-lib\": \"https://cdn.jsdelivr.net/npm//vega-lib?noext\",\n",
       "      \"vega-lite\": \"https://cdn.jsdelivr.net/npm//vega-lite@4.8.1?noext\",\n",
       "      \"vega-embed\": \"https://cdn.jsdelivr.net/npm//vega-embed@6?noext\",\n",
       "    };\n",
       "\n",
       "    function loadScript(lib) {\n",
       "      return new Promise(function(resolve, reject) {\n",
       "        var s = document.createElement('script');\n",
       "        s.src = paths[lib];\n",
       "        s.async = true;\n",
       "        s.onload = () => resolve(paths[lib]);\n",
       "        s.onerror = () => reject(`Error loading script: ${paths[lib]}`);\n",
       "        document.getElementsByTagName(\"head\")[0].appendChild(s);\n",
       "      });\n",
       "    }\n",
       "\n",
       "    function showError(err) {\n",
       "      outputDiv.innerHTML = `<div class=\"error\" style=\"color:red;\">${err}</div>`;\n",
       "      throw err;\n",
       "    }\n",
       "\n",
       "    function displayChart(vegaEmbed) {\n",
       "      vegaEmbed(outputDiv, spec, embedOpt)\n",
       "        .catch(err => showError(`Javascript Error: ${err.message}<br>This usually means there's a typo in your chart specification. See the javascript console for the full traceback.`));\n",
       "    }\n",
       "\n",
       "    if(typeof define === \"function\" && define.amd) {\n",
       "      requirejs.config({paths});\n",
       "      require([\"vega-embed\"], displayChart, err => showError(`Error loading script: ${err.message}`));\n",
       "    } else if (typeof vegaEmbed === \"function\") {\n",
       "      displayChart(vegaEmbed);\n",
       "    } else {\n",
       "      loadScript(\"vega\")\n",
       "        .then(() => loadScript(\"vega-lite\"))\n",
       "        .then(() => loadScript(\"vega-embed\"))\n",
       "        .catch(showError)\n",
       "        .then(() => displayChart(vegaEmbed));\n",
       "    }\n",
       "  })({\"config\": {\"view\": {\"continuousWidth\": 400, \"continuousHeight\": 300}}, \"layer\": [{\"data\": {\"name\": \"data-206c21864eaca6e8213461115419ce0a\"}, \"mark\": {\"type\": \"point\", \"size\": 40}, \"encoding\": {\"color\": {\"type\": \"nominal\", \"field\": \"Algorithm\"}, \"shape\": {\"type\": \"nominal\", \"field\": \"Algorithm\"}, \"tooltip\": [{\"type\": \"nominal\", \"field\": \"Algorithm\"}, {\"type\": \"quantitative\", \"field\": \"Value\"}], \"x\": {\"type\": \"quantitative\", \"field\": \"Rank\"}, \"y\": {\"type\": \"quantitative\", \"axis\": {\"title\": \"Singular Value\"}, \"field\": \"Value\"}}, \"selection\": {\"selector005\": {\"type\": \"interval\", \"bind\": \"scales\", \"encodings\": [\"x\", \"y\"]}}}, {\"data\": {\"name\": \"data-f0fb222611612ac113e479a4db5500c9\"}, \"mark\": {\"type\": \"line\", \"color\": \"gray\", \"strokeDash\": [2, 2]}, \"encoding\": {\"tooltip\": [{\"type\": \"quantitative\", \"field\": \"Error\"}], \"x\": {\"type\": \"quantitative\", \"field\": \"Rank\"}, \"y\": {\"type\": \"quantitative\", \"axis\": {\"title\": \"Error\", \"titleColor\": \"gray\"}, \"field\": \"Error\"}}, \"selection\": {\"selector006\": {\"type\": \"interval\", \"bind\": \"scales\", \"encodings\": [\"x\", \"y\"]}}}], \"resolve\": {\"scale\": {\"y\": \"independent\"}}, \"$schema\": \"https://vega.github.io/schema/vega-lite/v4.8.1.json\", \"datasets\": {\"data-206c21864eaca6e8213461115419ce0a\": [{\"Rank\": 0, \"Value\": 1.169236032516242, \"Algorithm\": \"SVD\"}, {\"Rank\": 1, \"Value\": 1.1006680048657287, \"Algorithm\": \"SVD\"}, {\"Rank\": 2, \"Value\": 1.0474026982526585, \"Algorithm\": \"SVD\"}, {\"Rank\": 3, \"Value\": 0.6213671949335077, \"Algorithm\": \"SVD\"}, {\"Rank\": 4, \"Value\": 0.6174041751442573, \"Algorithm\": \"SVD\"}, {\"Rank\": 5, \"Value\": 0.6116876384959289, \"Algorithm\": \"SVD\"}, {\"Rank\": 6, \"Value\": 0.6080387785990283, \"Algorithm\": \"SVD\"}, {\"Rank\": 7, \"Value\": 0.6044924150373133, \"Algorithm\": \"SVD\"}, {\"Rank\": 8, \"Value\": 0.6014688406141718, \"Algorithm\": \"SVD\"}, {\"Rank\": 9, \"Value\": 0.5991656535262737, \"Algorithm\": \"SVD\"}, {\"Rank\": 0, \"Value\": 1.1692360333480636, \"Algorithm\": \"Randomized SVD\"}, {\"Rank\": 1, \"Value\": 1.100668011875992, \"Algorithm\": \"Randomized SVD\"}, {\"Rank\": 2, \"Value\": 1.0474027221481699, \"Algorithm\": \"Randomized SVD\"}, {\"Rank\": 3, \"Value\": 0.6298858935648848, \"Algorithm\": \"Randomized SVD\"}, {\"Rank\": 4, \"Value\": 0.623935385864907, \"Algorithm\": \"Randomized SVD\"}, {\"Rank\": 5, \"Value\": 0.6209394278074682, \"Algorithm\": \"Randomized SVD\"}, {\"Rank\": 6, \"Value\": 0.6193082174046325, \"Algorithm\": \"Randomized SVD\"}, {\"Rank\": 7, \"Value\": 0.6179431999695739, \"Algorithm\": \"Randomized SVD\"}, {\"Rank\": 8, \"Value\": 0.6155211406343672, \"Algorithm\": \"Randomized SVD\"}, {\"Rank\": 9, \"Value\": 0.6123786940793793, \"Algorithm\": \"Randomized SVD\"}], \"data-f0fb222611612ac113e479a4db5500c9\": [{\"Rank\": 0, \"Error\": 4.386052175770578e-05}, {\"Rank\": 1, \"Error\": 0.00013319932247608208}, {\"Rank\": 2, \"Error\": 0.0002586663596995137}, {\"Rank\": 3, \"Error\": 1.9415100721278133}, {\"Rank\": 4, \"Error\": 0.5707353513323843}, {\"Rank\": 5, \"Error\": 1.299003186462269}, {\"Rank\": 6, \"Error\": 1.5016643951259487}, {\"Rank\": 7, \"Error\": 1.2749671629798864}, {\"Rank\": 8, \"Error\": 1.5287384804191688}, {\"Rank\": 9, \"Error\": 1.2845331592493776}]}}, {\"mode\": \"vega-lite\"});\n",
       "</script>"
      ],
      "text/plain": [
       "alt.LayerChart(...)"
      ]
     },
     "execution_count": 8,
     "metadata": {},
     "output_type": "execute_result"
    }
   ],
   "source": [
    "alt.layer(\n",
    "    plot_singular_values(limit_ranks=10, **{\"SVD\": svd_random, \"Randomized SVD\": svd_standard}),\n",
    "    plot_singular_vector_errors(svd_random, svd_standard, limit_ranks=10)\n",
    ").resolve_scale(y=\"independent\")"
   ]
  },
  {
   "cell_type": "code",
   "execution_count": null,
   "id": "9fc36057",
   "metadata": {},
   "outputs": [],
   "source": []
  }
 ],
 "metadata": {
  "kernelspec": {
   "display_name": "Python 3",
   "language": "python",
   "name": "python3"
  },
  "language_info": {
   "codemirror_mode": {
    "name": "ipython",
    "version": 3
   },
   "file_extension": ".py",
   "mimetype": "text/x-python",
   "name": "python",
   "nbconvert_exporter": "python",
   "pygments_lexer": "ipython3",
   "version": "3.8.6"
  },
  "varInspector": {
   "cols": {
    "lenName": 16,
    "lenType": 16,
    "lenVar": 40
   },
   "kernels_config": {
    "python": {
     "delete_cmd_postfix": "",
     "delete_cmd_prefix": "del ",
     "library": "var_list.py",
     "varRefreshCmd": "print(var_dic_list())"
    },
    "r": {
     "delete_cmd_postfix": ") ",
     "delete_cmd_prefix": "rm(",
     "library": "var_list.r",
     "varRefreshCmd": "cat(var_dic_list()) "
    }
   },
   "types_to_exclude": [
    "module",
    "function",
    "builtin_function_or_method",
    "instance",
    "_Feature"
   ],
   "window_display": false
  }
 },
 "nbformat": 4,
 "nbformat_minor": 5
}
